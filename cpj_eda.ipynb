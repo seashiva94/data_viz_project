{
 "cells": [
  {
   "cell_type": "markdown",
   "metadata": {},
   "source": [
    "### TODO:\n",
    "    - explore such redundancies in data/labels\n",
    "    - do better EDA\n",
    "    - rename some labels if need be\n",
    "    - create network graph\n",
    "    - create geographigcal viz (geopandas)\n",
    "    - analysis\n",
    "    - Guilt stkaren into writing most of latex/ppt :P"
   ]
  },
  {
   "cell_type": "code",
   "execution_count": 1,
   "metadata": {},
   "outputs": [],
   "source": [
    "import pandas as pd\n",
    "import matplotlib.pyplot as plt\n",
    "import seaborn as sns"
   ]
  },
  {
   "cell_type": "code",
   "execution_count": 2,
   "metadata": {},
   "outputs": [
    {
     "data": {
      "text/html": [
       "<div>\n",
       "<style scoped>\n",
       "    .dataframe tbody tr th:only-of-type {\n",
       "        vertical-align: middle;\n",
       "    }\n",
       "\n",
       "    .dataframe tbody tr th {\n",
       "        vertical-align: top;\n",
       "    }\n",
       "\n",
       "    .dataframe thead th {\n",
       "        text-align: right;\n",
       "    }\n",
       "</style>\n",
       "<table border=\"1\" class=\"dataframe\">\n",
       "  <thead>\n",
       "    <tr style=\"text-align: right;\">\n",
       "      <th></th>\n",
       "      <th>Type</th>\n",
       "      <th>Date</th>\n",
       "      <th>Name</th>\n",
       "      <th>Sex</th>\n",
       "      <th>Country_killed</th>\n",
       "      <th>Organization</th>\n",
       "      <th>Nationality</th>\n",
       "      <th>Medium</th>\n",
       "      <th>Job</th>\n",
       "      <th>Coverage</th>\n",
       "      <th>Freelance</th>\n",
       "      <th>Local_Foreign</th>\n",
       "      <th>Source_fire</th>\n",
       "      <th>Type_death</th>\n",
       "      <th>Impunity_for_murder</th>\n",
       "      <th>Taken_captive</th>\n",
       "      <th>Threatened</th>\n",
       "      <th>Tortured</th>\n",
       "    </tr>\n",
       "  </thead>\n",
       "  <tbody>\n",
       "    <tr>\n",
       "      <th>0</th>\n",
       "      <td>Motive Confirmed</td>\n",
       "      <td>October 22, 2016</td>\n",
       "      <td>Ali Risan</td>\n",
       "      <td>Male</td>\n",
       "      <td>Iraq</td>\n",
       "      <td>Al-Sumaria TV</td>\n",
       "      <td>Iraqi</td>\n",
       "      <td>Television, Internet</td>\n",
       "      <td>Camera Operator</td>\n",
       "      <td>War</td>\n",
       "      <td>No</td>\n",
       "      <td>Local</td>\n",
       "      <td>Political Group</td>\n",
       "      <td>Crossfire/Combat-Related</td>\n",
       "      <td>NaN</td>\n",
       "      <td>NaN</td>\n",
       "      <td>NaN</td>\n",
       "      <td>\\n</td>\n",
       "    </tr>\n",
       "    <tr>\n",
       "      <th>1</th>\n",
       "      <td>Motive Confirmed</td>\n",
       "      <td>October 21, 2016</td>\n",
       "      <td>Ahmet Haceroğlu</td>\n",
       "      <td>Male</td>\n",
       "      <td>Iraq</td>\n",
       "      <td>Türkmeneli TV</td>\n",
       "      <td>Iraqi</td>\n",
       "      <td>Television</td>\n",
       "      <td>Producer</td>\n",
       "      <td>Politics, War</td>\n",
       "      <td>No</td>\n",
       "      <td>Local</td>\n",
       "      <td>Political Group</td>\n",
       "      <td>Crossfire/Combat-Related</td>\n",
       "      <td>NaN</td>\n",
       "      <td>NaN</td>\n",
       "      <td>NaN</td>\n",
       "      <td>\\n</td>\n",
       "    </tr>\n",
       "    <tr>\n",
       "      <th>2</th>\n",
       "      <td>Motive Confirmed</td>\n",
       "      <td>October  2, 2016</td>\n",
       "      <td>Jeroen Oerlemans</td>\n",
       "      <td>Male</td>\n",
       "      <td>Libya</td>\n",
       "      <td>Freelance</td>\n",
       "      <td>Netherlands</td>\n",
       "      <td>Print, Internet</td>\n",
       "      <td>Photographer</td>\n",
       "      <td>Politics, War</td>\n",
       "      <td>Yes</td>\n",
       "      <td>Foreign</td>\n",
       "      <td>Political Group</td>\n",
       "      <td>Crossfire/Combat-Related</td>\n",
       "      <td>NaN</td>\n",
       "      <td>NaN</td>\n",
       "      <td>NaN</td>\n",
       "      <td>\\n</td>\n",
       "    </tr>\n",
       "    <tr>\n",
       "      <th>3</th>\n",
       "      <td>Motive Confirmed</td>\n",
       "      <td>August 14, 2016</td>\n",
       "      <td>Mustafa Said</td>\n",
       "      <td>Male</td>\n",
       "      <td>Iraq</td>\n",
       "      <td>Kurdistan TV</td>\n",
       "      <td>Iraqi</td>\n",
       "      <td>Television</td>\n",
       "      <td>Camera Operator</td>\n",
       "      <td>War</td>\n",
       "      <td>No</td>\n",
       "      <td>Local</td>\n",
       "      <td>Unknown Fire</td>\n",
       "      <td>Crossfire/Combat-Related</td>\n",
       "      <td>NaN</td>\n",
       "      <td>No</td>\n",
       "      <td>No</td>\n",
       "      <td>No\\n</td>\n",
       "    </tr>\n",
       "    <tr>\n",
       "      <th>4</th>\n",
       "      <td>Motive Confirmed</td>\n",
       "      <td>August  8, 2016</td>\n",
       "      <td>Shehzad Ahmed</td>\n",
       "      <td>NaN</td>\n",
       "      <td>Pakistan</td>\n",
       "      <td>Aaj News</td>\n",
       "      <td>Pakistani</td>\n",
       "      <td>Television</td>\n",
       "      <td>Camera Operator</td>\n",
       "      <td>Business, Corruption, Crime, Culture, Human Ri...</td>\n",
       "      <td>No</td>\n",
       "      <td>Local</td>\n",
       "      <td>Political Group</td>\n",
       "      <td>Dangerous Assignment</td>\n",
       "      <td>NaN</td>\n",
       "      <td>No</td>\n",
       "      <td>No</td>\n",
       "      <td>No\\n</td>\n",
       "    </tr>\n",
       "  </tbody>\n",
       "</table>\n",
       "</div>"
      ],
      "text/plain": [
       "               Type              Date               Name   Sex Country_killed  \\\n",
       "0  Motive Confirmed  October 22, 2016          Ali Risan  Male           Iraq   \n",
       "1  Motive Confirmed  October 21, 2016    Ahmet Haceroğlu  Male           Iraq   \n",
       "2  Motive Confirmed  October  2, 2016  Jeroen Oerlemans   Male          Libya   \n",
       "3  Motive Confirmed   August 14, 2016       Mustafa Said  Male           Iraq   \n",
       "4  Motive Confirmed   August  8, 2016      Shehzad Ahmed   NaN       Pakistan   \n",
       "\n",
       "    Organization  Nationality                Medium              Job  \\\n",
       "0  Al-Sumaria TV        Iraqi  Television, Internet  Camera Operator   \n",
       "1  Türkmeneli TV        Iraqi            Television         Producer   \n",
       "2      Freelance  Netherlands       Print, Internet     Photographer   \n",
       "3   Kurdistan TV        Iraqi            Television  Camera Operator   \n",
       "4       Aaj News    Pakistani            Television  Camera Operator   \n",
       "\n",
       "                                            Coverage Freelance Local_Foreign  \\\n",
       "0                                                War        No         Local   \n",
       "1                                      Politics, War        No         Local   \n",
       "2                                      Politics, War       Yes       Foreign   \n",
       "3                                                War        No         Local   \n",
       "4  Business, Corruption, Crime, Culture, Human Ri...        No         Local   \n",
       "\n",
       "       Source_fire                Type_death Impunity_for_murder  \\\n",
       "0  Political Group  Crossfire/Combat-Related                 NaN   \n",
       "1  Political Group  Crossfire/Combat-Related                 NaN   \n",
       "2  Political Group  Crossfire/Combat-Related                 NaN   \n",
       "3     Unknown Fire  Crossfire/Combat-Related                 NaN   \n",
       "4  Political Group      Dangerous Assignment                 NaN   \n",
       "\n",
       "  Taken_captive Threatened Tortured  \n",
       "0           NaN        NaN       \\n  \n",
       "1           NaN        NaN       \\n  \n",
       "2           NaN        NaN       \\n  \n",
       "3            No         No     No\\n  \n",
       "4            No         No     No\\n  "
      ]
     },
     "execution_count": 2,
     "metadata": {},
     "output_type": "execute_result"
    }
   ],
   "source": [
    "data = pd.read_csv('data/cpj.csv')\n",
    "data.head()"
   ]
  },
  {
   "cell_type": "code",
   "execution_count": 3,
   "metadata": {},
   "outputs": [
    {
     "data": {
      "text/plain": [
       "Sex\n",
       "Female      80\n",
       "Male      1136\n",
       "Name: Sex, dtype: int64"
      ]
     },
     "execution_count": 3,
     "metadata": {},
     "output_type": "execute_result"
    }
   ],
   "source": [
    "sex = data.Sex\n",
    "sex.dropna(inplace=True)\n",
    "sex.groupby(sex).count()"
   ]
  },
  {
   "cell_type": "code",
   "execution_count": 4,
   "metadata": {},
   "outputs": [
    {
     "data": {
      "text/plain": [
       "<matplotlib.axes._subplots.AxesSubplot at 0x7f22b6763630>"
      ]
     },
     "execution_count": 4,
     "metadata": {},
     "output_type": "execute_result"
    },
    {
     "data": {
      "image/png": "[encoded data removed]",
      "text/plain": [
       "<Figure size 432x288 with 1 Axes>"
      ]
     },
     "metadata": {},
     "output_type": "display_data"
    }
   ],
   "source": [
    "# countries = data.Nationality\n",
    "# countries.dropna(inplace=True)\n",
    "# counts = countries.groupby(countries).count()\n",
    "\n",
    "# subset= counts[counts > 50].index\n",
    "# print(list(subset))\n",
    "# high_death_nat = countries[countries.isin(subset)]\n",
    "sns.countplot(data = data, x = 'Nationality', order = data.Nationality.value_counts().iloc[:7].index)"
   ]
  },
  {
   "cell_type": "code",
   "execution_count": 5,
   "metadata": {},
   "outputs": [
    {
     "data": {
      "text/html": [
       "<div>\n",
       "<style scoped>\n",
       "    .dataframe tbody tr th:only-of-type {\n",
       "        vertical-align: middle;\n",
       "    }\n",
       "\n",
       "    .dataframe tbody tr th {\n",
       "        vertical-align: top;\n",
       "    }\n",
       "\n",
       "    .dataframe thead th {\n",
       "        text-align: right;\n",
       "    }\n",
       "</style>\n",
       "<table border=\"1\" class=\"dataframe\">\n",
       "  <thead>\n",
       "    <tr style=\"text-align: right;\">\n",
       "      <th></th>\n",
       "      <th>Organization</th>\n",
       "      <th>count</th>\n",
       "    </tr>\n",
       "  </thead>\n",
       "  <tbody>\n",
       "    <tr>\n",
       "      <th>55</th>\n",
       "      <td>Algerian State Television</td>\n",
       "      <td>6</td>\n",
       "    </tr>\n",
       "    <tr>\n",
       "      <th>321</th>\n",
       "      <td>Ozgur Gundem</td>\n",
       "      <td>6</td>\n",
       "    </tr>\n",
       "    <tr>\n",
       "      <th>30</th>\n",
       "      <td>Al-Iraqiya</td>\n",
       "      <td>6</td>\n",
       "    </tr>\n",
       "    <tr>\n",
       "      <th>79</th>\n",
       "      <td>Baghdad TV</td>\n",
       "      <td>5</td>\n",
       "    </tr>\n",
       "    <tr>\n",
       "      <th>43</th>\n",
       "      <td>Al-Shaabiya</td>\n",
       "      <td>5</td>\n",
       "    </tr>\n",
       "  </tbody>\n",
       "</table>\n",
       "</div>"
      ],
      "text/plain": [
       "                  Organization  count\n",
       "55   Algerian State Television      6\n",
       "321               Ozgur Gundem      6\n",
       "30                  Al-Iraqiya      6\n",
       "79                  Baghdad TV      5\n",
       "43                 Al-Shaabiya      5"
      ]
     },
     "execution_count": 5,
     "metadata": {},
     "output_type": "execute_result"
    }
   ],
   "source": [
    "not_freelance = data[~data['Organization'].isin(['Freelance', 'freelance','Freelancer'])].dropna()\n",
    "group = not_freelance.groupby('Organization')['Organization']\\\n",
    "    .count().reset_index(name='count')\\\n",
    "    .sort_values(['count'], ascending=False)\n",
    "\n",
    "group.head()\n",
    "# sns.countplot(data = not_freelance, x = 'Organization', order = not_freelance.Organization.value_counts().iloc[:7].index)"
   ]
  },
  {
   "cell_type": "code",
   "execution_count": 6,
   "metadata": {},
   "outputs": [
    {
     "data": {
      "text/html": [
       "<div>\n",
       "<style scoped>\n",
       "    .dataframe tbody tr th:only-of-type {\n",
       "        vertical-align: middle;\n",
       "    }\n",
       "\n",
       "    .dataframe tbody tr th {\n",
       "        vertical-align: top;\n",
       "    }\n",
       "\n",
       "    .dataframe thead th {\n",
       "        text-align: right;\n",
       "    }\n",
       "</style>\n",
       "<table border=\"1\" class=\"dataframe\">\n",
       "  <thead>\n",
       "    <tr style=\"text-align: right;\">\n",
       "      <th></th>\n",
       "      <th>Organization</th>\n",
       "      <th>count</th>\n",
       "    </tr>\n",
       "  </thead>\n",
       "  <tbody>\n",
       "    <tr>\n",
       "      <th>0</th>\n",
       "      <td>Freelance</td>\n",
       "      <td>32</td>\n",
       "    </tr>\n",
       "    <tr>\n",
       "      <th>2</th>\n",
       "      <td>freelance</td>\n",
       "      <td>22</td>\n",
       "    </tr>\n",
       "    <tr>\n",
       "      <th>1</th>\n",
       "      <td>Freelancer</td>\n",
       "      <td>14</td>\n",
       "    </tr>\n",
       "  </tbody>\n",
       "</table>\n",
       "</div>"
      ],
      "text/plain": [
       "  Organization  count\n",
       "0    Freelance     32\n",
       "2    freelance     22\n",
       "1   Freelancer     14"
      ]
     },
     "execution_count": 6,
     "metadata": {},
     "output_type": "execute_result"
    }
   ],
   "source": [
    "# TODO:\n",
    "freelance = data[data['Organization'].isin(['Freelance', 'freelance','Freelancer'])].dropna()\n",
    "group = freelance.groupby('Organization')['Organization']\\\n",
    "    .count().reset_index(name='count')\\\n",
    "    .sort_values(['count'], ascending=False)\n",
    "\n",
    "group.head()"
   ]
  },
  {
   "cell_type": "markdown",
   "metadata": {},
   "source": [
    "## My experiments with networkx"
   ]
  },
  {
   "cell_type": "code",
   "execution_count": 13,
   "metadata": {},
   "outputs": [],
   "source": [
    "# !pip install networkx\n",
    "# !pip install nose"
   ]
  },
  {
   "cell_type": "code",
   "execution_count": 14,
   "metadata": {},
   "outputs": [],
   "source": [
    "import networkx as nx"
   ]
  },
  {
   "cell_type": "code",
   "execution_count": 16,
   "metadata": {},
   "outputs": [],
   "source": [
    "# generate nodes for a 5 users\n",
    "# generate nodes for their assignments\n",
    "# link nodes"
   ]
  },
  {
   "cell_type": "code",
   "execution_count": 77,
   "metadata": {},
   "outputs": [
    {
     "name": "stdout",
     "output_type": "stream",
     "text": [
      "(20, 18)\n"
     ]
    }
   ],
   "source": [
    "subset_5 = data.iloc[:20, :]\n",
    "print(subset_5.shape)"
   ]
  },
  {
   "cell_type": "code",
   "execution_count": 78,
   "metadata": {},
   "outputs": [],
   "source": [
    "# subset_5.iloc[4, :].Coverage.split(\",\")"
   ]
  },
  {
   "cell_type": "code",
   "execution_count": 88,
   "metadata": {},
   "outputs": [
    {
     "name": "stdout",
     "output_type": "stream",
     "text": [
      "['War', 'Ali Risan', 'Politics', 'Ahmet Haceroğlu', ' War', 'Jeroen Oerlemans ', 'Mustafa Said', 'Business', 'Shehzad Ahmed', ' Corruption', ' Crime', ' Culture', ' Human Rights', ' Politics', ' Sports', 'Mehmood Khan', 'Mubarak al-Abadi', 'Mohammed Sayyed Hassan', 'Corruption', 'João Miranda do Carmo', 'Abdelqadir Fassouk', 'Pavel Sheremet', 'Sami Jawdat Rabah', 'Samer Mohammed Aboud', 'Mustafa Abdul Hassa', 'Mohammed Eissa', 'Human Rights', 'Abdullah Mohammad Ghannam', 'Ibrahim Omar', 'Khaled Eissa ', 'Khaled al-Zintani ', 'Crime', 'Elidio Ramos Zárate']\n",
      "41\n",
      "33\n"
     ]
    }
   ],
   "source": [
    "seen_covs = set()\n",
    "G = nx.Graph()\n",
    "for i in range(len(subset_5)):\n",
    "    name = subset_5.iloc[i, :].Name\n",
    "    coverage = subset_5.iloc[i,:].Coverage.split(\",\")\n",
    "    \n",
    "    added = False\n",
    "    for c in coverage:\n",
    "#         if c not in seen_covs:\n",
    "# #             G.add_node(c)\n",
    "            seen_covs.add(c)\n",
    "            G.add_edge(c, name)\n",
    "            G.nodes[c]['type'] = 'coverage'\n",
    "            G.nodes[name]['type'] = 'person'\n",
    "#             added = True\n",
    "#     if not added:\n",
    "#         G.add_node(name)\n",
    "#         G.nodes[name]['type'] = 'person'\n",
    "#     G.add_edges_from(edge_list)\n",
    "print(G.nodes)\n",
    "print(G.number_of_edges())\n",
    "print(G.number_of_nodes())"
   ]
  },
  {
   "cell_type": "code",
   "execution_count": 90,
   "metadata": {},
   "outputs": [
    {
     "data": {
      "image/png": "[encoded data removed]",
      "text/plain": [
       "<Figure size 720x720 with 1 Axes>"
      ]
     },
     "metadata": {},
     "output_type": "display_data"
    }
   ],
   "source": [
    "node_colors = ['g' if G.nodes[node]['type'] == 'person' else 'r' for node in G.nodes ]\n",
    "plt.figure(figsize=(10,10))\n",
    "nx.draw(G, with_labels=True, font_weight='bold', node_color=node_colors)"
   ]
  },
  {
   "cell_type": "markdown",
   "metadata": {},
   "source": [
    "**NOTE:** Adding edges adds new nodes if an endpoint is unseen but doesn't add new nodes if a node with same label exists:\n",
    "Good for us..\n",
    "\n",
    "Find better ways to visualize graphs, and learn how to analyze such graphs"
   ]
  },
  {
   "cell_type": "code",
   "execution_count": null,
   "metadata": {},
   "outputs": [],
   "source": []
  }
 ],
 "metadata": {
  "kernelspec": {
   "display_name": "Python 3",
   "language": "python",
   "name": "python3"
  },
  "language_info": {
   "codemirror_mode": {
    "name": "ipython",
    "version": 3
   },
   "file_extension": ".py",
   "mimetype": "text/x-python",
   "name": "python",
   "nbconvert_exporter": "python",
   "pygments_lexer": "ipython3",
   "version": "3.6.5"
  }
 },
 "nbformat": 4,
 "nbformat_minor": 2
}
