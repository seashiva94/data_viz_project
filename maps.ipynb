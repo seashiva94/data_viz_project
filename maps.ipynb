{
 "cells": [
  {
   "cell_type": "code",
   "execution_count": 1,
   "metadata": {},
   "outputs": [
    {
     "data": {
      "text/plain": [
       "RendererRegistry.enable('notebook')"
      ]
     },
     "execution_count": 1,
     "metadata": {},
     "output_type": "execute_result"
    }
   ],
   "source": [
    "import altair as alt\n",
    "from vega_datasets import data\n",
    "import pandas as pd\n",
    "import numpy as np\n",
    "alt.renderers.enable('notebook')"
   ]
  },
  {
   "cell_type": "code",
   "execution_count": 2,
   "metadata": {},
   "outputs": [
    {
     "data": {
      "application/javascript": [
       "var spec = {\"config\": {\"view\": {\"width\": 400, \"height\": 300}}, \"data\": {\"url\": \"https://vega.github.io/vega-datasets/data/world-110m.json\", \"format\": {\"feature\": \"countries\", \"type\": \"topojson\"}}, \"mark\": \"geoshape\", \"encoding\": {}, \"height\": 300, \"transform\": [{\"lookup\": \"id\", \"from\": {\"data\": {\"url\": \"https://vega.github.io/vega-datasets/data/unemployment.tsv\"}, \"key\": \"id\", \"fields\": [\"rate\"]}}], \"width\": 500, \"$schema\": \"https://vega.github.io/schema/vega-lite/v2.6.0.json\"};\n",
       "var opt = {};\n",
       "var type = \"vega-lite\";\n",
       "var id = \"dd4dafd7-185b-44b7-897d-f8b40a9d8c86\";\n",
       "\n",
       "var output_area = this;\n",
       "\n",
       "require([\"nbextensions/jupyter-vega/index\"], function(vega) {\n",
       "  var target = document.createElement(\"div\");\n",
       "  target.id = id;\n",
       "  target.className = \"vega-embed\";\n",
       "\n",
       "  var style = document.createElement(\"style\");\n",
       "  style.textContent = [\n",
       "    \".vega-embed .error p {\",\n",
       "    \"  color: firebrick;\",\n",
       "    \"  font-size: 14px;\",\n",
       "    \"}\",\n",
       "  ].join(\"\\\\n\");\n",
       "\n",
       "  // element is a jQuery wrapped DOM element inside the output area\n",
       "  // see http://ipython.readthedocs.io/en/stable/api/generated/\\\n",
       "  // IPython.display.html#IPython.display.Javascript.__init__\n",
       "  element[0].appendChild(target);\n",
       "  element[0].appendChild(style);\n",
       "\n",
       "  vega.render(\"#\" + id, spec, type, opt, output_area);\n",
       "}, function (err) {\n",
       "  if (err.requireType !== \"scripterror\") {\n",
       "    throw(err);\n",
       "  }\n",
       "});\n"
      ],
      "text/plain": [
       "<vega.vegalite.VegaLite at 0x7efec00696d8>"
      ]
     },
     "metadata": {
      "jupyter-vega": "#dd4dafd7-185b-44b7-897d-f8b40a9d8c86"
     },
     "output_type": "display_data"
    },
    {
     "data": {
      "text/plain": []
     },
     "execution_count": 2,
     "metadata": {},
     "output_type": "execute_result"
    },
    {
     "data": {
      "image/png": "[encoded data removed]"
     },
     "metadata": {
      "jupyter-vega": "#dd4dafd7-185b-44b7-897d-f8b40a9d8c86"
     },
     "output_type": "display_data"
    }
   ],
   "source": [
    "counties = alt.topo_feature(data.world_110m.url, 'countries')\n",
    "unemp_data = data.unemployment.url\n",
    "\n",
    "\n",
    "alt.Chart(counties).mark_geoshape().encode(\n",
    ").transform_lookup(\n",
    "    lookup='id',\n",
    "    from_=alt.LookupData(unemp_data, 'id', ['rate'])\n",
    "\n",
    ").properties(\n",
    "    width=500,\n",
    "    height=300\n",
    ")"
   ]
  },
  {
   "cell_type": "code",
   "execution_count": 13,
   "metadata": {},
   "outputs": [],
   "source": [
    "from bs4 import BeautifulSoup\n",
    "import requests"
   ]
  },
  {
   "cell_type": "code",
   "execution_count": 14,
   "metadata": {},
   "outputs": [],
   "source": [
    "res = requests.get(\"https://en.wikipedia.org/wiki/ISO_3166-1_numeric#Officially_assigned_code_elements\")\n",
    "soup = BeautifulSoup(res.content,'xml')\n",
    "table = soup.find_all('table')[0] \n",
    "df = pd.read_html(str(table))[0]\n",
    "\n",
    "df = df.drop(0)\n",
    "\n",
    "df.iloc[0][0] = \"004\"\n",
    "df.columns = [\"Code\", \"Country\"]"
   ]
  },
  {
   "cell_type": "code",
   "execution_count": 15,
   "metadata": {},
   "outputs": [
    {
     "data": {
      "text/html": [
       "<div>\n",
       "<style scoped>\n",
       "    .dataframe tbody tr th:only-of-type {\n",
       "        vertical-align: middle;\n",
       "    }\n",
       "\n",
       "    .dataframe tbody tr th {\n",
       "        vertical-align: top;\n",
       "    }\n",
       "\n",
       "    .dataframe thead th {\n",
       "        text-align: right;\n",
       "    }\n",
       "</style>\n",
       "<table border=\"1\" class=\"dataframe\">\n",
       "  <thead>\n",
       "    <tr style=\"text-align: right;\">\n",
       "      <th></th>\n",
       "      <th>Code</th>\n",
       "      <th>Country</th>\n",
       "    </tr>\n",
       "  </thead>\n",
       "  <tbody>\n",
       "    <tr>\n",
       "      <th>1</th>\n",
       "      <td>004</td>\n",
       "      <td>Afghanistan</td>\n",
       "    </tr>\n",
       "    <tr>\n",
       "      <th>2</th>\n",
       "      <td>008</td>\n",
       "      <td>Albania</td>\n",
       "    </tr>\n",
       "    <tr>\n",
       "      <th>3</th>\n",
       "      <td>010</td>\n",
       "      <td>Antarctica</td>\n",
       "    </tr>\n",
       "    <tr>\n",
       "      <th>4</th>\n",
       "      <td>012</td>\n",
       "      <td>Algeria</td>\n",
       "    </tr>\n",
       "    <tr>\n",
       "      <th>5</th>\n",
       "      <td>016</td>\n",
       "      <td>American Samoa</td>\n",
       "    </tr>\n",
       "  </tbody>\n",
       "</table>\n",
       "</div>"
      ],
      "text/plain": [
       "  Code         Country\n",
       "1  004     Afghanistan\n",
       "2  008         Albania\n",
       "3  010      Antarctica\n",
       "4  012         Algeria\n",
       "5  016  American Samoa"
      ]
     },
     "execution_count": 15,
     "metadata": {},
     "output_type": "execute_result"
    }
   ],
   "source": [
    "df.head()"
   ]
  },
  {
   "cell_type": "code",
   "execution_count": 16,
   "metadata": {},
   "outputs": [
    {
     "data": {
      "text/plain": [
       "(   index Code         Country\n",
       " 0      1  004     Afghanistan\n",
       " 1      2  008         Albania\n",
       " 2      3  010      Antarctica\n",
       " 3      4  012         Algeria\n",
       " 4      5  016  American Samoa, (249, 3))"
      ]
     },
     "execution_count": 16,
     "metadata": {},
     "output_type": "execute_result"
    }
   ],
   "source": [
    "df = df.reset_index()\n",
    "df.head(), df.shape"
   ]
  },
  {
   "cell_type": "code",
   "execution_count": null,
   "metadata": {},
   "outputs": [],
   "source": [
    "df.head(), df.shape"
   ]
  },
  {
   "cell_type": "code",
   "execution_count": 7,
   "metadata": {},
   "outputs": [
    {
     "data": {
      "text/html": [
       "<div>\n",
       "<style scoped>\n",
       "    .dataframe tbody tr th:only-of-type {\n",
       "        vertical-align: middle;\n",
       "    }\n",
       "\n",
       "    .dataframe tbody tr th {\n",
       "        vertical-align: top;\n",
       "    }\n",
       "\n",
       "    .dataframe thead th {\n",
       "        text-align: right;\n",
       "    }\n",
       "</style>\n",
       "<table border=\"1\" class=\"dataframe\">\n",
       "  <thead>\n",
       "    <tr style=\"text-align: right;\">\n",
       "      <th></th>\n",
       "      <th>Type</th>\n",
       "      <th>Date</th>\n",
       "      <th>Name</th>\n",
       "      <th>Sex</th>\n",
       "      <th>Country_killed</th>\n",
       "      <th>Organization</th>\n",
       "      <th>Nationality</th>\n",
       "      <th>Medium</th>\n",
       "      <th>Job</th>\n",
       "      <th>Coverage</th>\n",
       "      <th>Freelance</th>\n",
       "      <th>Local_Foreign</th>\n",
       "      <th>Source_fire</th>\n",
       "      <th>Type_death</th>\n",
       "      <th>Impunity_for_murder</th>\n",
       "      <th>Taken_captive</th>\n",
       "      <th>Threatened</th>\n",
       "      <th>Tortured</th>\n",
       "    </tr>\n",
       "  </thead>\n",
       "  <tbody>\n",
       "    <tr>\n",
       "      <th>0</th>\n",
       "      <td>Motive Confirmed</td>\n",
       "      <td>October 22, 2016</td>\n",
       "      <td>Ali Risan</td>\n",
       "      <td>Male</td>\n",
       "      <td>Iraq</td>\n",
       "      <td>Al-Sumaria TV</td>\n",
       "      <td>Iraqi</td>\n",
       "      <td>Television, Internet</td>\n",
       "      <td>Camera Operator</td>\n",
       "      <td>War</td>\n",
       "      <td>No</td>\n",
       "      <td>Local</td>\n",
       "      <td>Political Group</td>\n",
       "      <td>Crossfire/Combat-Related</td>\n",
       "      <td>NaN</td>\n",
       "      <td>NaN</td>\n",
       "      <td>NaN</td>\n",
       "      <td>\\n</td>\n",
       "    </tr>\n",
       "    <tr>\n",
       "      <th>1</th>\n",
       "      <td>Motive Confirmed</td>\n",
       "      <td>October 21, 2016</td>\n",
       "      <td>Ahmet Haceroğlu</td>\n",
       "      <td>Male</td>\n",
       "      <td>Iraq</td>\n",
       "      <td>Türkmeneli TV</td>\n",
       "      <td>Iraqi</td>\n",
       "      <td>Television</td>\n",
       "      <td>Producer</td>\n",
       "      <td>Politics, War</td>\n",
       "      <td>No</td>\n",
       "      <td>Local</td>\n",
       "      <td>Political Group</td>\n",
       "      <td>Crossfire/Combat-Related</td>\n",
       "      <td>NaN</td>\n",
       "      <td>NaN</td>\n",
       "      <td>NaN</td>\n",
       "      <td>\\n</td>\n",
       "    </tr>\n",
       "    <tr>\n",
       "      <th>2</th>\n",
       "      <td>Motive Confirmed</td>\n",
       "      <td>October  2, 2016</td>\n",
       "      <td>Jeroen Oerlemans</td>\n",
       "      <td>Male</td>\n",
       "      <td>Libya</td>\n",
       "      <td>Freelance</td>\n",
       "      <td>Netherlands</td>\n",
       "      <td>Print, Internet</td>\n",
       "      <td>Photographer</td>\n",
       "      <td>Politics, War</td>\n",
       "      <td>Yes</td>\n",
       "      <td>Foreign</td>\n",
       "      <td>Political Group</td>\n",
       "      <td>Crossfire/Combat-Related</td>\n",
       "      <td>NaN</td>\n",
       "      <td>NaN</td>\n",
       "      <td>NaN</td>\n",
       "      <td>\\n</td>\n",
       "    </tr>\n",
       "    <tr>\n",
       "      <th>3</th>\n",
       "      <td>Motive Confirmed</td>\n",
       "      <td>August 14, 2016</td>\n",
       "      <td>Mustafa Said</td>\n",
       "      <td>Male</td>\n",
       "      <td>Iraq</td>\n",
       "      <td>Kurdistan TV</td>\n",
       "      <td>Iraqi</td>\n",
       "      <td>Television</td>\n",
       "      <td>Camera Operator</td>\n",
       "      <td>War</td>\n",
       "      <td>No</td>\n",
       "      <td>Local</td>\n",
       "      <td>Unknown Fire</td>\n",
       "      <td>Crossfire/Combat-Related</td>\n",
       "      <td>NaN</td>\n",
       "      <td>No</td>\n",
       "      <td>No</td>\n",
       "      <td>No\\n</td>\n",
       "    </tr>\n",
       "    <tr>\n",
       "      <th>4</th>\n",
       "      <td>Motive Confirmed</td>\n",
       "      <td>August  8, 2016</td>\n",
       "      <td>Shehzad Ahmed</td>\n",
       "      <td>NaN</td>\n",
       "      <td>Pakistan</td>\n",
       "      <td>Aaj News</td>\n",
       "      <td>Pakistani</td>\n",
       "      <td>Television</td>\n",
       "      <td>Camera Operator</td>\n",
       "      <td>Business, Corruption, Crime, Culture, Human Ri...</td>\n",
       "      <td>No</td>\n",
       "      <td>Local</td>\n",
       "      <td>Political Group</td>\n",
       "      <td>Dangerous Assignment</td>\n",
       "      <td>NaN</td>\n",
       "      <td>No</td>\n",
       "      <td>No</td>\n",
       "      <td>No\\n</td>\n",
       "    </tr>\n",
       "  </tbody>\n",
       "</table>\n",
       "</div>"
      ],
      "text/plain": [
       "               Type              Date               Name   Sex Country_killed  \\\n",
       "0  Motive Confirmed  October 22, 2016          Ali Risan  Male           Iraq   \n",
       "1  Motive Confirmed  October 21, 2016    Ahmet Haceroğlu  Male           Iraq   \n",
       "2  Motive Confirmed  October  2, 2016  Jeroen Oerlemans   Male          Libya   \n",
       "3  Motive Confirmed   August 14, 2016       Mustafa Said  Male           Iraq   \n",
       "4  Motive Confirmed   August  8, 2016      Shehzad Ahmed   NaN       Pakistan   \n",
       "\n",
       "    Organization  Nationality                Medium              Job  \\\n",
       "0  Al-Sumaria TV        Iraqi  Television, Internet  Camera Operator   \n",
       "1  Türkmeneli TV        Iraqi            Television         Producer   \n",
       "2      Freelance  Netherlands       Print, Internet     Photographer   \n",
       "3   Kurdistan TV        Iraqi            Television  Camera Operator   \n",
       "4       Aaj News    Pakistani            Television  Camera Operator   \n",
       "\n",
       "                                            Coverage Freelance Local_Foreign  \\\n",
       "0                                                War        No         Local   \n",
       "1                                      Politics, War        No         Local   \n",
       "2                                      Politics, War       Yes       Foreign   \n",
       "3                                                War        No         Local   \n",
       "4  Business, Corruption, Crime, Culture, Human Ri...        No         Local   \n",
       "\n",
       "       Source_fire                Type_death Impunity_for_murder  \\\n",
       "0  Political Group  Crossfire/Combat-Related                 NaN   \n",
       "1  Political Group  Crossfire/Combat-Related                 NaN   \n",
       "2  Political Group  Crossfire/Combat-Related                 NaN   \n",
       "3     Unknown Fire  Crossfire/Combat-Related                 NaN   \n",
       "4  Political Group      Dangerous Assignment                 NaN   \n",
       "\n",
       "  Taken_captive Threatened Tortured  \n",
       "0           NaN        NaN       \\n  \n",
       "1           NaN        NaN       \\n  \n",
       "2           NaN        NaN       \\n  \n",
       "3            No         No     No\\n  \n",
       "4            No         No     No\\n  "
      ]
     },
     "execution_count": 7,
     "metadata": {},
     "output_type": "execute_result"
    }
   ],
   "source": [
    "data = pd.read_csv('data/cpj.csv')\n",
    "data.head()"
   ]
  },
  {
   "cell_type": "code",
   "execution_count": 40,
   "metadata": {},
   "outputs": [],
   "source": [
    "countries = list(data['Country_killed'])"
   ]
  },
  {
   "cell_type": "code",
   "execution_count": 44,
   "metadata": {},
   "outputs": [],
   "source": [
    "df_country = df.Country\n",
    "df_codes = df.Code\n",
    "\n",
    "codes_dict = dict(zip(df_country, df_codes))"
   ]
  },
  {
   "cell_type": "code",
   "execution_count": 53,
   "metadata": {},
   "outputs": [],
   "source": [
    "codes_column = []\n",
    "empty_countries = []\n",
    "for c in countries:\n",
    "    code = codes_dict.get(c, None)\n",
    "    if not code:\n",
    "        empty_countries.append(c)\n",
    "    codes_column.append(code)"
   ]
  },
  {
   "cell_type": "code",
   "execution_count": 56,
   "metadata": {},
   "outputs": [
    {
     "data": {
      "text/plain": [
       "{'Bolivia',\n",
       " 'Bosnia',\n",
       " 'Democratic Republic of the Congo',\n",
       " 'East Timor',\n",
       " 'Iran',\n",
       " 'Israel and the Occupied Palestinian Territory',\n",
       " 'Ivory Coast',\n",
       " 'Republic of Congo',\n",
       " 'Russia',\n",
       " 'Syria',\n",
       " 'Tanzania',\n",
       " 'UK',\n",
       " 'USA',\n",
       " 'Venezuela',\n",
       " 'Vietnam',\n",
       " 'Yugoslavia',\n",
       " nan}"
      ]
     },
     "execution_count": 56,
     "metadata": {},
     "output_type": "execute_result"
    }
   ],
   "source": [
    "set(empty_countries)"
   ]
  },
  {
   "cell_type": "code",
   "execution_count": 59,
   "metadata": {},
   "outputs": [
    {
     "data": {
      "text/plain": [
       "'643'"
      ]
     },
     "execution_count": 59,
     "metadata": {},
     "output_type": "execute_result"
    }
   ],
   "source": [
    "codes_dict['Russian Federation']"
   ]
  },
  {
   "cell_type": "code",
   "execution_count": 67,
   "metadata": {},
   "outputs": [],
   "source": [
    "missing_countries = list(set(empty_countries))\n",
    "missing_codes = [68, 70, 178, 626, 364, 376, 384, 178, 643, 760, 834, 826, 840, 862, 714, 890, np.nan]"
   ]
  },
  {
   "cell_type": "code",
   "execution_count": 68,
   "metadata": {},
   "outputs": [
    {
     "data": {
      "text/plain": [
       "True"
      ]
     },
     "execution_count": 68,
     "metadata": {},
     "output_type": "execute_result"
    }
   ],
   "source": [
    "len(missing_codes) == len(missing_countries)"
   ]
  },
  {
   "cell_type": "code",
   "execution_count": 69,
   "metadata": {},
   "outputs": [],
   "source": [
    "for i in range(len(missing_countries)):\n",
    "    codes_dict[missing_countries[i]] = missing_codes[i]"
   ]
  },
  {
   "cell_type": "code",
   "execution_count": 77,
   "metadata": {},
   "outputs": [],
   "source": [
    "codes_column_2 = []\n",
    "empty_countries_2 = []\n",
    "for c in countries:\n",
    "    code = codes_dict.get(c, None)\n",
    "    if not code:\n",
    "        empty_countries.append(c)\n",
    "    codes_column_2.append(code)"
   ]
  },
  {
   "cell_type": "code",
   "execution_count": 78,
   "metadata": {},
   "outputs": [
    {
     "data": {
      "text/plain": [
       "[]"
      ]
     },
     "execution_count": 78,
     "metadata": {},
     "output_type": "execute_result"
    }
   ],
   "source": [
    "empty_countries_2"
   ]
  },
  {
   "cell_type": "code",
   "execution_count": 80,
   "metadata": {},
   "outputs": [
    {
     "data": {
      "text/plain": [
       "True"
      ]
     },
     "execution_count": 80,
     "metadata": {},
     "output_type": "execute_result"
    }
   ],
   "source": [
    "len(codes_column_2)== data.shape[0]"
   ]
  },
  {
   "cell_type": "code",
   "execution_count": 81,
   "metadata": {},
   "outputs": [],
   "source": [
    "data['Country_code'] = codes_column_2"
   ]
  },
  {
   "cell_type": "code",
   "execution_count": 83,
   "metadata": {},
   "outputs": [
    {
     "data": {
      "text/html": [
       "<div>\n",
       "<style scoped>\n",
       "    .dataframe tbody tr th:only-of-type {\n",
       "        vertical-align: middle;\n",
       "    }\n",
       "\n",
       "    .dataframe tbody tr th {\n",
       "        vertical-align: top;\n",
       "    }\n",
       "\n",
       "    .dataframe thead th {\n",
       "        text-align: right;\n",
       "    }\n",
       "</style>\n",
       "<table border=\"1\" class=\"dataframe\">\n",
       "  <thead>\n",
       "    <tr style=\"text-align: right;\">\n",
       "      <th></th>\n",
       "      <th>Type</th>\n",
       "      <th>Date</th>\n",
       "      <th>Name</th>\n",
       "      <th>Sex</th>\n",
       "      <th>Country_killed</th>\n",
       "      <th>Organization</th>\n",
       "      <th>Nationality</th>\n",
       "      <th>Medium</th>\n",
       "      <th>Job</th>\n",
       "      <th>Coverage</th>\n",
       "      <th>Freelance</th>\n",
       "      <th>Local_Foreign</th>\n",
       "      <th>Source_fire</th>\n",
       "      <th>Type_death</th>\n",
       "      <th>Impunity_for_murder</th>\n",
       "      <th>Taken_captive</th>\n",
       "      <th>Threatened</th>\n",
       "      <th>Tortured</th>\n",
       "      <th>Country_code</th>\n",
       "    </tr>\n",
       "  </thead>\n",
       "  <tbody>\n",
       "    <tr>\n",
       "      <th>0</th>\n",
       "      <td>Motive Confirmed</td>\n",
       "      <td>October 22, 2016</td>\n",
       "      <td>Ali Risan</td>\n",
       "      <td>Male</td>\n",
       "      <td>Iraq</td>\n",
       "      <td>Al-Sumaria TV</td>\n",
       "      <td>Iraqi</td>\n",
       "      <td>Television, Internet</td>\n",
       "      <td>Camera Operator</td>\n",
       "      <td>War</td>\n",
       "      <td>No</td>\n",
       "      <td>Local</td>\n",
       "      <td>Political Group</td>\n",
       "      <td>Crossfire/Combat-Related</td>\n",
       "      <td>NaN</td>\n",
       "      <td>NaN</td>\n",
       "      <td>NaN</td>\n",
       "      <td>\\n</td>\n",
       "      <td>368</td>\n",
       "    </tr>\n",
       "    <tr>\n",
       "      <th>1</th>\n",
       "      <td>Motive Confirmed</td>\n",
       "      <td>October 21, 2016</td>\n",
       "      <td>Ahmet Haceroğlu</td>\n",
       "      <td>Male</td>\n",
       "      <td>Iraq</td>\n",
       "      <td>Türkmeneli TV</td>\n",
       "      <td>Iraqi</td>\n",
       "      <td>Television</td>\n",
       "      <td>Producer</td>\n",
       "      <td>Politics, War</td>\n",
       "      <td>No</td>\n",
       "      <td>Local</td>\n",
       "      <td>Political Group</td>\n",
       "      <td>Crossfire/Combat-Related</td>\n",
       "      <td>NaN</td>\n",
       "      <td>NaN</td>\n",
       "      <td>NaN</td>\n",
       "      <td>\\n</td>\n",
       "      <td>368</td>\n",
       "    </tr>\n",
       "    <tr>\n",
       "      <th>2</th>\n",
       "      <td>Motive Confirmed</td>\n",
       "      <td>October  2, 2016</td>\n",
       "      <td>Jeroen Oerlemans</td>\n",
       "      <td>Male</td>\n",
       "      <td>Libya</td>\n",
       "      <td>Freelance</td>\n",
       "      <td>Netherlands</td>\n",
       "      <td>Print, Internet</td>\n",
       "      <td>Photographer</td>\n",
       "      <td>Politics, War</td>\n",
       "      <td>Yes</td>\n",
       "      <td>Foreign</td>\n",
       "      <td>Political Group</td>\n",
       "      <td>Crossfire/Combat-Related</td>\n",
       "      <td>NaN</td>\n",
       "      <td>NaN</td>\n",
       "      <td>NaN</td>\n",
       "      <td>\\n</td>\n",
       "      <td>434</td>\n",
       "    </tr>\n",
       "    <tr>\n",
       "      <th>3</th>\n",
       "      <td>Motive Confirmed</td>\n",
       "      <td>August 14, 2016</td>\n",
       "      <td>Mustafa Said</td>\n",
       "      <td>Male</td>\n",
       "      <td>Iraq</td>\n",
       "      <td>Kurdistan TV</td>\n",
       "      <td>Iraqi</td>\n",
       "      <td>Television</td>\n",
       "      <td>Camera Operator</td>\n",
       "      <td>War</td>\n",
       "      <td>No</td>\n",
       "      <td>Local</td>\n",
       "      <td>Unknown Fire</td>\n",
       "      <td>Crossfire/Combat-Related</td>\n",
       "      <td>NaN</td>\n",
       "      <td>No</td>\n",
       "      <td>No</td>\n",
       "      <td>No\\n</td>\n",
       "      <td>368</td>\n",
       "    </tr>\n",
       "    <tr>\n",
       "      <th>4</th>\n",
       "      <td>Motive Confirmed</td>\n",
       "      <td>August  8, 2016</td>\n",
       "      <td>Shehzad Ahmed</td>\n",
       "      <td>NaN</td>\n",
       "      <td>Pakistan</td>\n",
       "      <td>Aaj News</td>\n",
       "      <td>Pakistani</td>\n",
       "      <td>Television</td>\n",
       "      <td>Camera Operator</td>\n",
       "      <td>Business, Corruption, Crime, Culture, Human Ri...</td>\n",
       "      <td>No</td>\n",
       "      <td>Local</td>\n",
       "      <td>Political Group</td>\n",
       "      <td>Dangerous Assignment</td>\n",
       "      <td>NaN</td>\n",
       "      <td>No</td>\n",
       "      <td>No</td>\n",
       "      <td>No\\n</td>\n",
       "      <td>586</td>\n",
       "    </tr>\n",
       "  </tbody>\n",
       "</table>\n",
       "</div>"
      ],
      "text/plain": [
       "               Type              Date               Name   Sex Country_killed  \\\n",
       "0  Motive Confirmed  October 22, 2016          Ali Risan  Male           Iraq   \n",
       "1  Motive Confirmed  October 21, 2016    Ahmet Haceroğlu  Male           Iraq   \n",
       "2  Motive Confirmed  October  2, 2016  Jeroen Oerlemans   Male          Libya   \n",
       "3  Motive Confirmed   August 14, 2016       Mustafa Said  Male           Iraq   \n",
       "4  Motive Confirmed   August  8, 2016      Shehzad Ahmed   NaN       Pakistan   \n",
       "\n",
       "    Organization  Nationality                Medium              Job  \\\n",
       "0  Al-Sumaria TV        Iraqi  Television, Internet  Camera Operator   \n",
       "1  Türkmeneli TV        Iraqi            Television         Producer   \n",
       "2      Freelance  Netherlands       Print, Internet     Photographer   \n",
       "3   Kurdistan TV        Iraqi            Television  Camera Operator   \n",
       "4       Aaj News    Pakistani            Television  Camera Operator   \n",
       "\n",
       "                                            Coverage Freelance Local_Foreign  \\\n",
       "0                                                War        No         Local   \n",
       "1                                      Politics, War        No         Local   \n",
       "2                                      Politics, War       Yes       Foreign   \n",
       "3                                                War        No         Local   \n",
       "4  Business, Corruption, Crime, Culture, Human Ri...        No         Local   \n",
       "\n",
       "       Source_fire                Type_death Impunity_for_murder  \\\n",
       "0  Political Group  Crossfire/Combat-Related                 NaN   \n",
       "1  Political Group  Crossfire/Combat-Related                 NaN   \n",
       "2  Political Group  Crossfire/Combat-Related                 NaN   \n",
       "3     Unknown Fire  Crossfire/Combat-Related                 NaN   \n",
       "4  Political Group      Dangerous Assignment                 NaN   \n",
       "\n",
       "  Taken_captive Threatened Tortured Country_code  \n",
       "0           NaN        NaN       \\n          368  \n",
       "1           NaN        NaN       \\n          368  \n",
       "2           NaN        NaN       \\n          434  \n",
       "3            No         No     No\\n          368  \n",
       "4            No         No     No\\n          586  "
      ]
     },
     "execution_count": 83,
     "metadata": {},
     "output_type": "execute_result"
    }
   ],
   "source": [
    "data.head()"
   ]
  },
  {
   "cell_type": "code",
   "execution_count": 96,
   "metadata": {},
   "outputs": [],
   "source": [
    "country_counts_df = data.groupby('Country_killed').count()\n",
    "\n",
    "final_country_counts = []\n",
    "final_country_names = country_counts_df.index.values\n",
    "final_country_codes = []\n",
    "for i in range(country_counts_df.shape[0]):\n",
    "    code = codes_dict[final_country_names[i]]\n",
    "    final_country_codes.append(code)\n",
    "    \n",
    "    count = max(country_counts_df.iloc[i])\n",
    "    final_country_counts.append(count)"
   ]
  },
  {
   "cell_type": "code",
   "execution_count": 97,
   "metadata": {},
   "outputs": [
    {
     "data": {
      "text/html": [
       "<div>\n",
       "<style scoped>\n",
       "    .dataframe tbody tr th:only-of-type {\n",
       "        vertical-align: middle;\n",
       "    }\n",
       "\n",
       "    .dataframe tbody tr th {\n",
       "        vertical-align: top;\n",
       "    }\n",
       "\n",
       "    .dataframe thead th {\n",
       "        text-align: right;\n",
       "    }\n",
       "</style>\n",
       "<table border=\"1\" class=\"dataframe\">\n",
       "  <thead>\n",
       "    <tr style=\"text-align: right;\">\n",
       "      <th></th>\n",
       "      <th>Country</th>\n",
       "      <th>Code</th>\n",
       "      <th>Count</th>\n",
       "    </tr>\n",
       "  </thead>\n",
       "  <tbody>\n",
       "    <tr>\n",
       "      <th>0</th>\n",
       "      <td>Afghanistan</td>\n",
       "      <td>004</td>\n",
       "      <td>36</td>\n",
       "    </tr>\n",
       "    <tr>\n",
       "      <th>1</th>\n",
       "      <td>Algeria</td>\n",
       "      <td>012</td>\n",
       "      <td>61</td>\n",
       "    </tr>\n",
       "    <tr>\n",
       "      <th>2</th>\n",
       "      <td>Angola</td>\n",
       "      <td>024</td>\n",
       "      <td>11</td>\n",
       "    </tr>\n",
       "    <tr>\n",
       "      <th>3</th>\n",
       "      <td>Argentina</td>\n",
       "      <td>032</td>\n",
       "      <td>4</td>\n",
       "    </tr>\n",
       "    <tr>\n",
       "      <th>4</th>\n",
       "      <td>Armenia</td>\n",
       "      <td>051</td>\n",
       "      <td>1</td>\n",
       "    </tr>\n",
       "  </tbody>\n",
       "</table>\n",
       "</div>"
      ],
      "text/plain": [
       "       Country Code  Count\n",
       "0  Afghanistan  004     36\n",
       "1      Algeria  012     61\n",
       "2       Angola  024     11\n",
       "3    Argentina  032      4\n",
       "4      Armenia  051      1"
      ]
     },
     "execution_count": 97,
     "metadata": {},
     "output_type": "execute_result"
    }
   ],
   "source": [
    "final_counts_df = pd.DataFrame()\n",
    "final_counts_df['Country'] = final_country_names\n",
    "final_counts_df['Code'] = final_country_codes\n",
    "final_counts_df['Count'] = final_country_counts\n",
    "\n",
    "final_counts_df.head()"
   ]
  },
  {
   "cell_type": "code",
   "execution_count": null,
   "metadata": {},
   "outputs": [],
   "source": [
    "countries = alt.topo_feature(data.world_110m.url, 'countries')\n",
    "\n",
    "alt.Chart(countries).mark_geoshape().encode(\n",
    "    tooltip='id:N'\n",
    ").project(\n",
    "    'equirectangular'\n",
    ").properties(\n",
    "    width=800,\n",
    "    height=500,\n",
    ")"
   ]
  }
 ],
 "metadata": {
  "kernelspec": {
   "display_name": "Python 3",
   "language": "python",
   "name": "python3"
  },
  "language_info": {
   "codemirror_mode": {
    "name": "ipython",
    "version": 3
   },
   "file_extension": ".py",
   "mimetype": "text/x-python",
   "name": "python",
   "nbconvert_exporter": "python",
   "pygments_lexer": "ipython3",
   "version": "3.6.5"
  }
 },
 "nbformat": 4,
 "nbformat_minor": 2
}
