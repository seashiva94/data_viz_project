{
 "cells": [
  {
   "cell_type": "code",
   "execution_count": 1,
   "metadata": {},
   "outputs": [
    {
     "data": {
      "text/plain": [
       "RendererRegistry.enable('notebook')"
      ]
     },
     "execution_count": 1,
     "metadata": {},
     "output_type": "execute_result"
    }
   ],
   "source": [
    "import altair as alt\n",
    "from vega_datasets import data\n",
    "import pandas as pd\n",
    "import numpy as np\n",
    "alt.renderers.enable('notebook')"
   ]
  },
  {
   "cell_type": "code",
   "execution_count": 42,
   "metadata": {},
   "outputs": [],
   "source": [
    "from bs4 import BeautifulSoup\n",
    "import requests"
   ]
  },
  {
   "cell_type": "code",
   "execution_count": 43,
   "metadata": {},
   "outputs": [],
   "source": [
    "res = requests.get(\"https://en.wikipedia.org/wiki/ISO_3166-1_numeric#Officially_assigned_code_elements\")\n",
    "soup = BeautifulSoup(res.content,'xml')\n",
    "table = soup.find_all('table')[0] \n",
    "df = pd.read_html(str(table))[0]\n",
    "\n",
    "df = df.drop(0)\n",
    "\n",
    "df.iloc[0][0] = \"004\"\n",
    "df.columns = [\"Code\", \"Country\"]"
   ]
  },
  {
   "cell_type": "code",
   "execution_count": 44,
   "metadata": {},
   "outputs": [
    {
     "data": {
      "text/html": [
       "<div>\n",
       "<style scoped>\n",
       "    .dataframe tbody tr th:only-of-type {\n",
       "        vertical-align: middle;\n",
       "    }\n",
       "\n",
       "    .dataframe tbody tr th {\n",
       "        vertical-align: top;\n",
       "    }\n",
       "\n",
       "    .dataframe thead th {\n",
       "        text-align: right;\n",
       "    }\n",
       "</style>\n",
       "<table border=\"1\" class=\"dataframe\">\n",
       "  <thead>\n",
       "    <tr style=\"text-align: right;\">\n",
       "      <th></th>\n",
       "      <th>Code</th>\n",
       "      <th>Country</th>\n",
       "    </tr>\n",
       "  </thead>\n",
       "  <tbody>\n",
       "    <tr>\n",
       "      <th>1</th>\n",
       "      <td>004</td>\n",
       "      <td>Afghanistan</td>\n",
       "    </tr>\n",
       "    <tr>\n",
       "      <th>2</th>\n",
       "      <td>008</td>\n",
       "      <td>Albania</td>\n",
       "    </tr>\n",
       "    <tr>\n",
       "      <th>3</th>\n",
       "      <td>010</td>\n",
       "      <td>Antarctica</td>\n",
       "    </tr>\n",
       "    <tr>\n",
       "      <th>4</th>\n",
       "      <td>012</td>\n",
       "      <td>Algeria</td>\n",
       "    </tr>\n",
       "    <tr>\n",
       "      <th>5</th>\n",
       "      <td>016</td>\n",
       "      <td>American Samoa</td>\n",
       "    </tr>\n",
       "  </tbody>\n",
       "</table>\n",
       "</div>"
      ],
      "text/plain": [
       "  Code         Country\n",
       "1  004     Afghanistan\n",
       "2  008         Albania\n",
       "3  010      Antarctica\n",
       "4  012         Algeria\n",
       "5  016  American Samoa"
      ]
     },
     "execution_count": 44,
     "metadata": {},
     "output_type": "execute_result"
    }
   ],
   "source": [
    "df.head()"
   ]
  },
  {
   "cell_type": "code",
   "execution_count": 45,
   "metadata": {},
   "outputs": [
    {
     "data": {
      "text/plain": [
       "(   index Code         Country\n",
       " 0      1  004     Afghanistan\n",
       " 1      2  008         Albania\n",
       " 2      3  010      Antarctica\n",
       " 3      4  012         Algeria\n",
       " 4      5  016  American Samoa, (249, 3))"
      ]
     },
     "execution_count": 45,
     "metadata": {},
     "output_type": "execute_result"
    }
   ],
   "source": [
    "df = df.reset_index()\n",
    "df.head(), df.shape"
   ]
  },
  {
   "cell_type": "code",
   "execution_count": 46,
   "metadata": {},
   "outputs": [
    {
     "data": {
      "text/plain": [
       "(   index Code         Country\n",
       " 0      1  004     Afghanistan\n",
       " 1      2  008         Albania\n",
       " 2      3  010      Antarctica\n",
       " 3      4  012         Algeria\n",
       " 4      5  016  American Samoa, (249, 3))"
      ]
     },
     "execution_count": 46,
     "metadata": {},
     "output_type": "execute_result"
    }
   ],
   "source": [
    "df.head(), df.shape"
   ]
  },
  {
   "cell_type": "code",
   "execution_count": 47,
   "metadata": {},
   "outputs": [
    {
     "data": {
      "text/html": [
       "<div>\n",
       "<style scoped>\n",
       "    .dataframe tbody tr th:only-of-type {\n",
       "        vertical-align: middle;\n",
       "    }\n",
       "\n",
       "    .dataframe tbody tr th {\n",
       "        vertical-align: top;\n",
       "    }\n",
       "\n",
       "    .dataframe thead th {\n",
       "        text-align: right;\n",
       "    }\n",
       "</style>\n",
       "<table border=\"1\" class=\"dataframe\">\n",
       "  <thead>\n",
       "    <tr style=\"text-align: right;\">\n",
       "      <th></th>\n",
       "      <th>Type</th>\n",
       "      <th>Date</th>\n",
       "      <th>Name</th>\n",
       "      <th>Sex</th>\n",
       "      <th>Country_killed</th>\n",
       "      <th>Organization</th>\n",
       "      <th>Nationality</th>\n",
       "      <th>Medium</th>\n",
       "      <th>Job</th>\n",
       "      <th>Coverage</th>\n",
       "      <th>Freelance</th>\n",
       "      <th>Local_Foreign</th>\n",
       "      <th>Source_fire</th>\n",
       "      <th>Type_death</th>\n",
       "      <th>Impunity_for_murder</th>\n",
       "      <th>Taken_captive</th>\n",
       "      <th>Threatened</th>\n",
       "      <th>Tortured</th>\n",
       "    </tr>\n",
       "  </thead>\n",
       "  <tbody>\n",
       "    <tr>\n",
       "      <th>0</th>\n",
       "      <td>Motive Confirmed</td>\n",
       "      <td>October 22, 2016</td>\n",
       "      <td>Ali Risan</td>\n",
       "      <td>Male</td>\n",
       "      <td>Iraq</td>\n",
       "      <td>Al-Sumaria TV</td>\n",
       "      <td>Iraqi</td>\n",
       "      <td>Television, Internet</td>\n",
       "      <td>Camera Operator</td>\n",
       "      <td>War</td>\n",
       "      <td>No</td>\n",
       "      <td>Local</td>\n",
       "      <td>Political Group</td>\n",
       "      <td>Crossfire/Combat-Related</td>\n",
       "      <td>NaN</td>\n",
       "      <td>NaN</td>\n",
       "      <td>NaN</td>\n",
       "      <td>\\n</td>\n",
       "    </tr>\n",
       "    <tr>\n",
       "      <th>1</th>\n",
       "      <td>Motive Confirmed</td>\n",
       "      <td>October 21, 2016</td>\n",
       "      <td>Ahmet Haceroğlu</td>\n",
       "      <td>Male</td>\n",
       "      <td>Iraq</td>\n",
       "      <td>Türkmeneli TV</td>\n",
       "      <td>Iraqi</td>\n",
       "      <td>Television</td>\n",
       "      <td>Producer</td>\n",
       "      <td>Politics, War</td>\n",
       "      <td>No</td>\n",
       "      <td>Local</td>\n",
       "      <td>Political Group</td>\n",
       "      <td>Crossfire/Combat-Related</td>\n",
       "      <td>NaN</td>\n",
       "      <td>NaN</td>\n",
       "      <td>NaN</td>\n",
       "      <td>\\n</td>\n",
       "    </tr>\n",
       "    <tr>\n",
       "      <th>2</th>\n",
       "      <td>Motive Confirmed</td>\n",
       "      <td>October  2, 2016</td>\n",
       "      <td>Jeroen Oerlemans</td>\n",
       "      <td>Male</td>\n",
       "      <td>Libya</td>\n",
       "      <td>Freelance</td>\n",
       "      <td>Netherlands</td>\n",
       "      <td>Print, Internet</td>\n",
       "      <td>Photographer</td>\n",
       "      <td>Politics, War</td>\n",
       "      <td>Yes</td>\n",
       "      <td>Foreign</td>\n",
       "      <td>Political Group</td>\n",
       "      <td>Crossfire/Combat-Related</td>\n",
       "      <td>NaN</td>\n",
       "      <td>NaN</td>\n",
       "      <td>NaN</td>\n",
       "      <td>\\n</td>\n",
       "    </tr>\n",
       "    <tr>\n",
       "      <th>3</th>\n",
       "      <td>Motive Confirmed</td>\n",
       "      <td>August 14, 2016</td>\n",
       "      <td>Mustafa Said</td>\n",
       "      <td>Male</td>\n",
       "      <td>Iraq</td>\n",
       "      <td>Kurdistan TV</td>\n",
       "      <td>Iraqi</td>\n",
       "      <td>Television</td>\n",
       "      <td>Camera Operator</td>\n",
       "      <td>War</td>\n",
       "      <td>No</td>\n",
       "      <td>Local</td>\n",
       "      <td>Unknown Fire</td>\n",
       "      <td>Crossfire/Combat-Related</td>\n",
       "      <td>NaN</td>\n",
       "      <td>No</td>\n",
       "      <td>No</td>\n",
       "      <td>No\\n</td>\n",
       "    </tr>\n",
       "    <tr>\n",
       "      <th>4</th>\n",
       "      <td>Motive Confirmed</td>\n",
       "      <td>August  8, 2016</td>\n",
       "      <td>Shehzad Ahmed</td>\n",
       "      <td>NaN</td>\n",
       "      <td>Pakistan</td>\n",
       "      <td>Aaj News</td>\n",
       "      <td>Pakistani</td>\n",
       "      <td>Television</td>\n",
       "      <td>Camera Operator</td>\n",
       "      <td>Business, Corruption, Crime, Culture, Human Ri...</td>\n",
       "      <td>No</td>\n",
       "      <td>Local</td>\n",
       "      <td>Political Group</td>\n",
       "      <td>Dangerous Assignment</td>\n",
       "      <td>NaN</td>\n",
       "      <td>No</td>\n",
       "      <td>No</td>\n",
       "      <td>No\\n</td>\n",
       "    </tr>\n",
       "  </tbody>\n",
       "</table>\n",
       "</div>"
      ],
      "text/plain": [
       "               Type              Date               Name   Sex Country_killed  \\\n",
       "0  Motive Confirmed  October 22, 2016          Ali Risan  Male           Iraq   \n",
       "1  Motive Confirmed  October 21, 2016    Ahmet Haceroğlu  Male           Iraq   \n",
       "2  Motive Confirmed  October  2, 2016  Jeroen Oerlemans   Male          Libya   \n",
       "3  Motive Confirmed   August 14, 2016       Mustafa Said  Male           Iraq   \n",
       "4  Motive Confirmed   August  8, 2016      Shehzad Ahmed   NaN       Pakistan   \n",
       "\n",
       "    Organization  Nationality                Medium              Job  \\\n",
       "0  Al-Sumaria TV        Iraqi  Television, Internet  Camera Operator   \n",
       "1  Türkmeneli TV        Iraqi            Television         Producer   \n",
       "2      Freelance  Netherlands       Print, Internet     Photographer   \n",
       "3   Kurdistan TV        Iraqi            Television  Camera Operator   \n",
       "4       Aaj News    Pakistani            Television  Camera Operator   \n",
       "\n",
       "                                            Coverage Freelance Local_Foreign  \\\n",
       "0                                                War        No         Local   \n",
       "1                                      Politics, War        No         Local   \n",
       "2                                      Politics, War       Yes       Foreign   \n",
       "3                                                War        No         Local   \n",
       "4  Business, Corruption, Crime, Culture, Human Ri...        No         Local   \n",
       "\n",
       "       Source_fire                Type_death Impunity_for_murder  \\\n",
       "0  Political Group  Crossfire/Combat-Related                 NaN   \n",
       "1  Political Group  Crossfire/Combat-Related                 NaN   \n",
       "2  Political Group  Crossfire/Combat-Related                 NaN   \n",
       "3     Unknown Fire  Crossfire/Combat-Related                 NaN   \n",
       "4  Political Group      Dangerous Assignment                 NaN   \n",
       "\n",
       "  Taken_captive Threatened Tortured  \n",
       "0           NaN        NaN       \\n  \n",
       "1           NaN        NaN       \\n  \n",
       "2           NaN        NaN       \\n  \n",
       "3            No         No     No\\n  \n",
       "4            No         No     No\\n  "
      ]
     },
     "execution_count": 47,
     "metadata": {},
     "output_type": "execute_result"
    }
   ],
   "source": [
    "data = pd.read_csv('data/cpj.csv')\n",
    "data.head()"
   ]
  },
  {
   "cell_type": "code",
   "execution_count": 48,
   "metadata": {},
   "outputs": [],
   "source": [
    "countries = list(data['Country_killed'])"
   ]
  },
  {
   "cell_type": "code",
   "execution_count": 49,
   "metadata": {},
   "outputs": [],
   "source": [
    "df_country = df.Country\n",
    "df_codes = df.Code\n",
    "\n",
    "codes_dict = dict(zip(df_country, df_codes))"
   ]
  },
  {
   "cell_type": "code",
   "execution_count": 50,
   "metadata": {},
   "outputs": [],
   "source": [
    "codes_column = []\n",
    "empty_countries = []\n",
    "for c in countries:\n",
    "    code = codes_dict.get(c, None)\n",
    "    if not code:\n",
    "        empty_countries.append(c)\n",
    "    codes_column.append(code)"
   ]
  },
  {
   "cell_type": "code",
   "execution_count": 51,
   "metadata": {},
   "outputs": [
    {
     "data": {
      "text/plain": [
       "[nan,\n",
       " 'Bosnia',\n",
       " 'Vietnam',\n",
       " 'Iran',\n",
       " 'Tanzania',\n",
       " 'Israel and the Occupied Palestinian Territory',\n",
       " 'Democratic Republic of the Congo',\n",
       " 'Venezuela',\n",
       " 'Yugoslavia',\n",
       " 'Ivory Coast',\n",
       " 'Syria',\n",
       " 'USA',\n",
       " 'East Timor',\n",
       " 'Russia',\n",
       " 'Republic of Congo',\n",
       " 'UK',\n",
       " 'Bolivia']"
      ]
     },
     "execution_count": 51,
     "metadata": {},
     "output_type": "execute_result"
    }
   ],
   "source": [
    "list(set(empty_countries))"
   ]
  },
  {
   "cell_type": "code",
   "execution_count": 52,
   "metadata": {},
   "outputs": [
    {
     "data": {
      "text/plain": [
       "'643'"
      ]
     },
     "execution_count": 52,
     "metadata": {},
     "output_type": "execute_result"
    }
   ],
   "source": [
    "codes_dict['Russian Federation']"
   ]
  },
  {
   "cell_type": "code",
   "execution_count": 53,
   "metadata": {},
   "outputs": [],
   "source": [
    "missing_countries = list(set(empty_countries))\n",
    "missing_codes = [np.nan, 70, 714, 364, 834, 376, 180, 862, 890, 384, 760, 840, 626, 643, 178, 826, 68]"
   ]
  },
  {
   "cell_type": "code",
   "execution_count": 54,
   "metadata": {},
   "outputs": [
    {
     "data": {
      "text/plain": [
       "True"
      ]
     },
     "execution_count": 54,
     "metadata": {},
     "output_type": "execute_result"
    }
   ],
   "source": [
    "len(missing_codes) == len(missing_countries)"
   ]
  },
  {
   "cell_type": "code",
   "execution_count": 55,
   "metadata": {},
   "outputs": [],
   "source": [
    "for i in range(len(missing_countries)):\n",
    "    codes_dict[missing_countries[i]] = missing_codes[i]"
   ]
  },
  {
   "cell_type": "code",
   "execution_count": 56,
   "metadata": {},
   "outputs": [],
   "source": [
    "codes_column_2 = []\n",
    "empty_countries_2 = []\n",
    "for c in countries:\n",
    "    code = codes_dict.get(c, None)\n",
    "    if not code:\n",
    "        empty_countries.append(c)\n",
    "    codes_column_2.append(code)"
   ]
  },
  {
   "cell_type": "code",
   "execution_count": 57,
   "metadata": {},
   "outputs": [
    {
     "data": {
      "text/plain": [
       "(840, 626, '840')"
      ]
     },
     "execution_count": 57,
     "metadata": {},
     "output_type": "execute_result"
    }
   ],
   "source": [
    "codes_dict['USA'] , codes_dict['East Timor'] , codes_dict['United States of America'] , "
   ]
  },
  {
   "cell_type": "code",
   "execution_count": 58,
   "metadata": {},
   "outputs": [
    {
     "data": {
      "text/plain": [
       "True"
      ]
     },
     "execution_count": 58,
     "metadata": {},
     "output_type": "execute_result"
    }
   ],
   "source": [
    "len(codes_column_2)== data.shape[0]"
   ]
  },
  {
   "cell_type": "code",
   "execution_count": 59,
   "metadata": {},
   "outputs": [],
   "source": [
    "data['Country_code'] = codes_column_2"
   ]
  },
  {
   "cell_type": "code",
   "execution_count": 60,
   "metadata": {},
   "outputs": [
    {
     "data": {
      "text/html": [
       "<div>\n",
       "<style scoped>\n",
       "    .dataframe tbody tr th:only-of-type {\n",
       "        vertical-align: middle;\n",
       "    }\n",
       "\n",
       "    .dataframe tbody tr th {\n",
       "        vertical-align: top;\n",
       "    }\n",
       "\n",
       "    .dataframe thead th {\n",
       "        text-align: right;\n",
       "    }\n",
       "</style>\n",
       "<table border=\"1\" class=\"dataframe\">\n",
       "  <thead>\n",
       "    <tr style=\"text-align: right;\">\n",
       "      <th></th>\n",
       "      <th>Type</th>\n",
       "      <th>Date</th>\n",
       "      <th>Name</th>\n",
       "      <th>Sex</th>\n",
       "      <th>Country_killed</th>\n",
       "      <th>Organization</th>\n",
       "      <th>Nationality</th>\n",
       "      <th>Medium</th>\n",
       "      <th>Job</th>\n",
       "      <th>Coverage</th>\n",
       "      <th>Freelance</th>\n",
       "      <th>Local_Foreign</th>\n",
       "      <th>Source_fire</th>\n",
       "      <th>Type_death</th>\n",
       "      <th>Impunity_for_murder</th>\n",
       "      <th>Taken_captive</th>\n",
       "      <th>Threatened</th>\n",
       "      <th>Tortured</th>\n",
       "      <th>Country_code</th>\n",
       "    </tr>\n",
       "  </thead>\n",
       "  <tbody>\n",
       "    <tr>\n",
       "      <th>0</th>\n",
       "      <td>Motive Confirmed</td>\n",
       "      <td>October 22, 2016</td>\n",
       "      <td>Ali Risan</td>\n",
       "      <td>Male</td>\n",
       "      <td>Iraq</td>\n",
       "      <td>Al-Sumaria TV</td>\n",
       "      <td>Iraqi</td>\n",
       "      <td>Television, Internet</td>\n",
       "      <td>Camera Operator</td>\n",
       "      <td>War</td>\n",
       "      <td>No</td>\n",
       "      <td>Local</td>\n",
       "      <td>Political Group</td>\n",
       "      <td>Crossfire/Combat-Related</td>\n",
       "      <td>NaN</td>\n",
       "      <td>NaN</td>\n",
       "      <td>NaN</td>\n",
       "      <td>\\n</td>\n",
       "      <td>368</td>\n",
       "    </tr>\n",
       "    <tr>\n",
       "      <th>1</th>\n",
       "      <td>Motive Confirmed</td>\n",
       "      <td>October 21, 2016</td>\n",
       "      <td>Ahmet Haceroğlu</td>\n",
       "      <td>Male</td>\n",
       "      <td>Iraq</td>\n",
       "      <td>Türkmeneli TV</td>\n",
       "      <td>Iraqi</td>\n",
       "      <td>Television</td>\n",
       "      <td>Producer</td>\n",
       "      <td>Politics, War</td>\n",
       "      <td>No</td>\n",
       "      <td>Local</td>\n",
       "      <td>Political Group</td>\n",
       "      <td>Crossfire/Combat-Related</td>\n",
       "      <td>NaN</td>\n",
       "      <td>NaN</td>\n",
       "      <td>NaN</td>\n",
       "      <td>\\n</td>\n",
       "      <td>368</td>\n",
       "    </tr>\n",
       "    <tr>\n",
       "      <th>2</th>\n",
       "      <td>Motive Confirmed</td>\n",
       "      <td>October  2, 2016</td>\n",
       "      <td>Jeroen Oerlemans</td>\n",
       "      <td>Male</td>\n",
       "      <td>Libya</td>\n",
       "      <td>Freelance</td>\n",
       "      <td>Netherlands</td>\n",
       "      <td>Print, Internet</td>\n",
       "      <td>Photographer</td>\n",
       "      <td>Politics, War</td>\n",
       "      <td>Yes</td>\n",
       "      <td>Foreign</td>\n",
       "      <td>Political Group</td>\n",
       "      <td>Crossfire/Combat-Related</td>\n",
       "      <td>NaN</td>\n",
       "      <td>NaN</td>\n",
       "      <td>NaN</td>\n",
       "      <td>\\n</td>\n",
       "      <td>434</td>\n",
       "    </tr>\n",
       "    <tr>\n",
       "      <th>3</th>\n",
       "      <td>Motive Confirmed</td>\n",
       "      <td>August 14, 2016</td>\n",
       "      <td>Mustafa Said</td>\n",
       "      <td>Male</td>\n",
       "      <td>Iraq</td>\n",
       "      <td>Kurdistan TV</td>\n",
       "      <td>Iraqi</td>\n",
       "      <td>Television</td>\n",
       "      <td>Camera Operator</td>\n",
       "      <td>War</td>\n",
       "      <td>No</td>\n",
       "      <td>Local</td>\n",
       "      <td>Unknown Fire</td>\n",
       "      <td>Crossfire/Combat-Related</td>\n",
       "      <td>NaN</td>\n",
       "      <td>No</td>\n",
       "      <td>No</td>\n",
       "      <td>No\\n</td>\n",
       "      <td>368</td>\n",
       "    </tr>\n",
       "    <tr>\n",
       "      <th>4</th>\n",
       "      <td>Motive Confirmed</td>\n",
       "      <td>August  8, 2016</td>\n",
       "      <td>Shehzad Ahmed</td>\n",
       "      <td>NaN</td>\n",
       "      <td>Pakistan</td>\n",
       "      <td>Aaj News</td>\n",
       "      <td>Pakistani</td>\n",
       "      <td>Television</td>\n",
       "      <td>Camera Operator</td>\n",
       "      <td>Business, Corruption, Crime, Culture, Human Ri...</td>\n",
       "      <td>No</td>\n",
       "      <td>Local</td>\n",
       "      <td>Political Group</td>\n",
       "      <td>Dangerous Assignment</td>\n",
       "      <td>NaN</td>\n",
       "      <td>No</td>\n",
       "      <td>No</td>\n",
       "      <td>No\\n</td>\n",
       "      <td>586</td>\n",
       "    </tr>\n",
       "  </tbody>\n",
       "</table>\n",
       "</div>"
      ],
      "text/plain": [
       "               Type              Date               Name   Sex Country_killed  \\\n",
       "0  Motive Confirmed  October 22, 2016          Ali Risan  Male           Iraq   \n",
       "1  Motive Confirmed  October 21, 2016    Ahmet Haceroğlu  Male           Iraq   \n",
       "2  Motive Confirmed  October  2, 2016  Jeroen Oerlemans   Male          Libya   \n",
       "3  Motive Confirmed   August 14, 2016       Mustafa Said  Male           Iraq   \n",
       "4  Motive Confirmed   August  8, 2016      Shehzad Ahmed   NaN       Pakistan   \n",
       "\n",
       "    Organization  Nationality                Medium              Job  \\\n",
       "0  Al-Sumaria TV        Iraqi  Television, Internet  Camera Operator   \n",
       "1  Türkmeneli TV        Iraqi            Television         Producer   \n",
       "2      Freelance  Netherlands       Print, Internet     Photographer   \n",
       "3   Kurdistan TV        Iraqi            Television  Camera Operator   \n",
       "4       Aaj News    Pakistani            Television  Camera Operator   \n",
       "\n",
       "                                            Coverage Freelance Local_Foreign  \\\n",
       "0                                                War        No         Local   \n",
       "1                                      Politics, War        No         Local   \n",
       "2                                      Politics, War       Yes       Foreign   \n",
       "3                                                War        No         Local   \n",
       "4  Business, Corruption, Crime, Culture, Human Ri...        No         Local   \n",
       "\n",
       "       Source_fire                Type_death Impunity_for_murder  \\\n",
       "0  Political Group  Crossfire/Combat-Related                 NaN   \n",
       "1  Political Group  Crossfire/Combat-Related                 NaN   \n",
       "2  Political Group  Crossfire/Combat-Related                 NaN   \n",
       "3     Unknown Fire  Crossfire/Combat-Related                 NaN   \n",
       "4  Political Group      Dangerous Assignment                 NaN   \n",
       "\n",
       "  Taken_captive Threatened Tortured Country_code  \n",
       "0           NaN        NaN       \\n          368  \n",
       "1           NaN        NaN       \\n          368  \n",
       "2           NaN        NaN       \\n          434  \n",
       "3            No         No     No\\n          368  \n",
       "4            No         No     No\\n          586  "
      ]
     },
     "execution_count": 60,
     "metadata": {},
     "output_type": "execute_result"
    }
   ],
   "source": [
    "data.head()"
   ]
  },
  {
   "cell_type": "code",
   "execution_count": 61,
   "metadata": {},
   "outputs": [],
   "source": [
    "country_counts_df = data.groupby('Country_killed').count()\n",
    "\n",
    "final_country_counts = []\n",
    "final_country_names = country_counts_df.index.values\n",
    "final_country_codes = []\n",
    "for i in range(country_counts_df.shape[0]):\n",
    "    code = codes_dict[final_country_names[i]]\n",
    "    final_country_codes.append(code)\n",
    "    \n",
    "    count = max(country_counts_df.iloc[i])\n",
    "    final_country_counts.append(count)"
   ]
  },
  {
   "cell_type": "code",
   "execution_count": 62,
   "metadata": {},
   "outputs": [
    {
     "data": {
      "text/html": [
       "<div>\n",
       "<style scoped>\n",
       "    .dataframe tbody tr th:only-of-type {\n",
       "        vertical-align: middle;\n",
       "    }\n",
       "\n",
       "    .dataframe tbody tr th {\n",
       "        vertical-align: top;\n",
       "    }\n",
       "\n",
       "    .dataframe thead th {\n",
       "        text-align: right;\n",
       "    }\n",
       "</style>\n",
       "<table border=\"1\" class=\"dataframe\">\n",
       "  <thead>\n",
       "    <tr style=\"text-align: right;\">\n",
       "      <th></th>\n",
       "      <th>Country</th>\n",
       "      <th>Code</th>\n",
       "      <th>Count</th>\n",
       "    </tr>\n",
       "  </thead>\n",
       "  <tbody>\n",
       "    <tr>\n",
       "      <th>0</th>\n",
       "      <td>Afghanistan</td>\n",
       "      <td>004</td>\n",
       "      <td>36</td>\n",
       "    </tr>\n",
       "    <tr>\n",
       "      <th>1</th>\n",
       "      <td>Algeria</td>\n",
       "      <td>012</td>\n",
       "      <td>61</td>\n",
       "    </tr>\n",
       "    <tr>\n",
       "      <th>2</th>\n",
       "      <td>Angola</td>\n",
       "      <td>024</td>\n",
       "      <td>11</td>\n",
       "    </tr>\n",
       "    <tr>\n",
       "      <th>3</th>\n",
       "      <td>Argentina</td>\n",
       "      <td>032</td>\n",
       "      <td>4</td>\n",
       "    </tr>\n",
       "    <tr>\n",
       "      <th>4</th>\n",
       "      <td>Armenia</td>\n",
       "      <td>051</td>\n",
       "      <td>1</td>\n",
       "    </tr>\n",
       "  </tbody>\n",
       "</table>\n",
       "</div>"
      ],
      "text/plain": [
       "       Country Code  Count\n",
       "0  Afghanistan  004     36\n",
       "1      Algeria  012     61\n",
       "2       Angola  024     11\n",
       "3    Argentina  032      4\n",
       "4      Armenia  051      1"
      ]
     },
     "execution_count": 62,
     "metadata": {},
     "output_type": "execute_result"
    }
   ],
   "source": [
    "final_counts_df = pd.DataFrame()\n",
    "final_counts_df['Country'] = final_country_names\n",
    "final_counts_df['Code'] = final_country_codes\n",
    "final_counts_df['Count'] = final_country_counts\n",
    "\n",
    "final_counts_df.head()"
   ]
  },
  {
   "cell_type": "code",
   "execution_count": 63,
   "metadata": {},
   "outputs": [],
   "source": [
    "from vega_datasets import data as data_vega"
   ]
  },
  {
   "cell_type": "code",
   "execution_count": 97,
   "metadata": {},
   "outputs": [
    {
     "data": {
      "application/javascript": [
       "var spec = {\"config\": {\"view\": {\"width\": 400, \"height\": 300}}, \"data\": {\"url\": \"https://vega.github.io/vega-datasets/data/world-110m.json\", \"format\": {\"feature\": \"countries\", \"type\": \"topojson\"}}, \"mark\": \"geoshape\", \"encoding\": {\"color\": {\"type\": \"quantitative\", \"field\": \"Count\"}, \"tooltip\": [{\"type\": \"nominal\", \"field\": \"Country\"}, {\"type\": \"nominal\", \"field\": \"Code\"}, {\"type\": \"quantitative\", \"field\": \"Count\"}]}, \"height\": 500, \"projection\": {\"type\": \"equirectangular\"}, \"transform\": [{\"lookup\": \"id\", \"from\": {\"data\": {\"name\": \"data-2e6b5b08e82c8a4b084e83d4f615fa42\"}, \"key\": \"Code\", \"fields\": [\"Count\", \"Country\", \"Code\"]}}], \"width\": 800, \"$schema\": \"https://vega.github.io/schema/vega-lite/v2.6.0.json\", \"datasets\": {\"data-2e6b5b08e82c8a4b084e83d4f615fa42\": [{\"Country\": \"Afghanistan\", \"Code\": \"004\", \"Count\": 36}, {\"Country\": \"Algeria\", \"Code\": \"012\", \"Count\": 61}, {\"Country\": \"Angola\", \"Code\": \"024\", \"Count\": 11}, {\"Country\": \"Argentina\", \"Code\": \"032\", \"Count\": 4}, {\"Country\": \"Armenia\", \"Code\": \"051\", \"Count\": 1}, {\"Country\": \"Azerbaijan\", \"Code\": \"031\", \"Count\": 6}, {\"Country\": \"Bahrain\", \"Code\": \"048\", \"Count\": 3}, {\"Country\": \"Bangladesh\", \"Code\": \"050\", \"Count\": 29}, {\"Country\": \"Belarus\", \"Code\": \"112\", \"Count\": 6}, {\"Country\": \"Bolivia\", \"Code\": 68, \"Count\": 3}, {\"Country\": \"Bosnia\", \"Code\": 70, \"Count\": 25}, {\"Country\": \"Brazil\", \"Code\": \"076\", \"Count\": 49}, {\"Country\": \"Bulgaria\", \"Code\": \"100\", \"Count\": 2}, {\"Country\": \"Burkina Faso\", \"Code\": \"854\", \"Count\": 1}, {\"Country\": \"Burundi\", \"Code\": \"108\", \"Count\": 4}, {\"Country\": \"Cambodia\", \"Code\": \"116\", \"Count\": 12}, {\"Country\": \"Cameroon\", \"Code\": \"120\", \"Count\": 1}, {\"Country\": \"Canada\", \"Code\": \"124\", \"Count\": 2}, {\"Country\": \"Central African Republic\", \"Code\": \"140\", \"Count\": 1}, {\"Country\": \"Chad\", \"Code\": \"148\", \"Count\": 3}, {\"Country\": \"China\", \"Code\": \"156\", \"Count\": 5}, {\"Country\": \"Colombia\", \"Code\": \"170\", \"Count\": 84}, {\"Country\": \"Costa Rica\", \"Code\": \"188\", \"Count\": 1}, {\"Country\": \"Croatia\", \"Code\": \"191\", \"Count\": 4}, {\"Country\": \"Cyprus\", \"Code\": \"196\", \"Count\": 1}, {\"Country\": \"Democratic Republic of the Congo\", \"Code\": 180, \"Count\": 14}, {\"Country\": \"Dominican Republic\", \"Code\": \"214\", \"Count\": 4}, {\"Country\": \"East Timor\", \"Code\": 626, \"Count\": 2}, {\"Country\": \"Ecuador\", \"Code\": \"218\", \"Count\": 3}, {\"Country\": \"Egypt\", \"Code\": \"818\", \"Count\": 13}, {\"Country\": \"El Salvador\", \"Code\": \"222\", \"Count\": 6}, {\"Country\": \"Eritrea\", \"Code\": \"232\", \"Count\": 2}, {\"Country\": \"Ethiopia\", \"Code\": \"231\", \"Count\": 2}, {\"Country\": \"France\", \"Code\": \"250\", \"Count\": 10}, {\"Country\": \"Gabon\", \"Code\": \"266\", \"Count\": 1}, {\"Country\": \"Gambia\", \"Code\": \"270\", \"Count\": 1}, {\"Country\": \"Georgia\", \"Code\": \"268\", \"Count\": 9}, {\"Country\": \"Ghana\", \"Code\": \"288\", \"Count\": 1}, {\"Country\": \"Greece\", \"Code\": \"300\", \"Count\": 1}, {\"Country\": \"Guatemala\", \"Code\": \"320\", \"Count\": 23}, {\"Country\": \"Guinea\", \"Code\": \"324\", \"Count\": 4}, {\"Country\": \"Haiti\", \"Code\": \"332\", \"Count\": 9}, {\"Country\": \"Honduras\", \"Code\": \"340\", \"Count\": 23}, {\"Country\": \"India\", \"Code\": \"356\", \"Count\": 69}, {\"Country\": \"Indonesia\", \"Code\": \"360\", \"Count\": 11}, {\"Country\": \"Iran\", \"Code\": 364, \"Count\": 5}, {\"Country\": \"Iraq\", \"Code\": \"368\", \"Count\": 264}, {\"Country\": \"Ireland\", \"Code\": \"372\", \"Count\": 1}, {\"Country\": \"Israel and the Occupied Palestinian Territory\", \"Code\": 376, \"Count\": 21}, {\"Country\": \"Ivory Coast\", \"Code\": 384, \"Count\": 6}, {\"Country\": \"Japan\", \"Code\": \"392\", \"Count\": 1}, {\"Country\": \"Kazakhstan\", \"Code\": \"398\", \"Count\": 2}, {\"Country\": \"Kenya\", \"Code\": \"404\", \"Count\": 5}, {\"Country\": \"Kuwait\", \"Code\": \"414\", \"Count\": 1}, {\"Country\": \"Kyrgyzstan\", \"Code\": \"417\", \"Count\": 2}, {\"Country\": \"Latvia\", \"Code\": \"428\", \"Count\": 1}, {\"Country\": \"Lebanon\", \"Code\": \"422\", \"Count\": 10}, {\"Country\": \"Libya\", \"Code\": \"434\", \"Count\": 13}, {\"Country\": \"Lithuania\", \"Code\": \"440\", \"Count\": 1}, {\"Country\": \"Madagascar\", \"Code\": \"450\", \"Count\": 2}, {\"Country\": \"Mali\", \"Code\": \"466\", \"Count\": 2}, {\"Country\": \"Mexico\", \"Code\": \"484\", \"Count\": 89}, {\"Country\": \"Mozambique\", \"Code\": \"508\", \"Count\": 2}, {\"Country\": \"Myanmar\", \"Code\": \"104\", \"Count\": 4}, {\"Country\": \"Nepal\", \"Code\": \"524\", \"Count\": 17}, {\"Country\": \"Nicaragua\", \"Code\": \"558\", \"Count\": 2}, {\"Country\": \"Nigeria\", \"Code\": \"566\", \"Count\": 19}, {\"Country\": \"Pakistan\", \"Code\": \"586\", \"Count\": 86}, {\"Country\": \"Panama\", \"Code\": \"591\", \"Count\": 1}, {\"Country\": \"Papua New Guinea\", \"Code\": \"598\", \"Count\": 1}, {\"Country\": \"Paraguay\", \"Code\": \"600\", \"Count\": 6}, {\"Country\": \"Peru\", \"Code\": \"604\", \"Count\": 15}, {\"Country\": \"Philippines\", \"Code\": \"608\", \"Count\": 133}, {\"Country\": \"Poland\", \"Code\": \"616\", \"Count\": 1}, {\"Country\": \"Republic of Congo\", \"Code\": 178, \"Count\": 3}, {\"Country\": \"Russia\", \"Code\": 643, \"Count\": 80}, {\"Country\": \"Rwanda\", \"Code\": \"646\", \"Count\": 23}, {\"Country\": \"Saudi Arabia\", \"Code\": \"682\", \"Count\": 1}, {\"Country\": \"Serbia\", \"Code\": \"688\", \"Count\": 3}, {\"Country\": \"Sierra Leone\", \"Code\": \"694\", \"Count\": 17}, {\"Country\": \"Somalia\", \"Code\": \"706\", \"Count\": 66}, {\"Country\": \"South Africa\", \"Code\": \"710\", \"Count\": 4}, {\"Country\": \"South Sudan\", \"Code\": \"728\", \"Count\": 8}, {\"Country\": \"Spain\", \"Code\": \"724\", \"Count\": 1}, {\"Country\": \"Sri Lanka\", \"Code\": \"144\", \"Count\": 25}, {\"Country\": \"Sudan\", \"Code\": \"729\", \"Count\": 2}, {\"Country\": \"Syria\", \"Code\": 760, \"Count\": 116}, {\"Country\": \"Tajikistan\", \"Code\": \"762\", \"Count\": 29}, {\"Country\": \"Tanzania\", \"Code\": 834, \"Count\": 2}, {\"Country\": \"Thailand\", \"Code\": \"764\", \"Count\": 16}, {\"Country\": \"Tunisia\", \"Code\": \"788\", \"Count\": 1}, {\"Country\": \"Turkey\", \"Code\": \"792\", \"Count\": 29}, {\"Country\": \"Turkmenistan\", \"Code\": \"795\", \"Count\": 1}, {\"Country\": \"UK\", \"Code\": 826, \"Count\": 3}, {\"Country\": \"USA\", \"Code\": 840, \"Count\": 9}, {\"Country\": \"Uganda\", \"Code\": \"800\", \"Count\": 5}, {\"Country\": \"Ukraine\", \"Code\": \"804\", \"Count\": 19}, {\"Country\": \"Uruguay\", \"Code\": \"858\", \"Count\": 1}, {\"Country\": \"Uzbekistan\", \"Code\": \"860\", \"Count\": 1}, {\"Country\": \"Venezuela\", \"Code\": 862, \"Count\": 9}, {\"Country\": \"Vietnam\", \"Code\": 714, \"Count\": 1}, {\"Country\": \"Yemen\", \"Code\": \"887\", \"Count\": 19}, {\"Country\": \"Yugoslavia\", \"Code\": 890, \"Count\": 10}, {\"Country\": \"Zimbabwe\", \"Code\": \"716\", \"Count\": 1}]}};\n",
       "var opt = {};\n",
       "var type = \"vega-lite\";\n",
       "var id = \"378ec06d-5dc9-4585-b528-eeebdc542111\";\n",
       "\n",
       "var output_area = this;\n",
       "\n",
       "require([\"nbextensions/jupyter-vega/index\"], function(vega) {\n",
       "  var target = document.createElement(\"div\");\n",
       "  target.id = id;\n",
       "  target.className = \"vega-embed\";\n",
       "\n",
       "  var style = document.createElement(\"style\");\n",
       "  style.textContent = [\n",
       "    \".vega-embed .error p {\",\n",
       "    \"  color: firebrick;\",\n",
       "    \"  font-size: 14px;\",\n",
       "    \"}\",\n",
       "  ].join(\"\\\\n\");\n",
       "\n",
       "  // element is a jQuery wrapped DOM element inside the output area\n",
       "  // see http://ipython.readthedocs.io/en/stable/api/generated/\\\n",
       "  // IPython.display.html#IPython.display.Javascript.__init__\n",
       "  element[0].appendChild(target);\n",
       "  element[0].appendChild(style);\n",
       "\n",
       "  vega.render(\"#\" + id, spec, type, opt, output_area);\n",
       "}, function (err) {\n",
       "  if (err.requireType !== \"scripterror\") {\n",
       "    throw(err);\n",
       "  }\n",
       "});\n"
      ],
      "text/plain": [
       "<vega.vegalite.VegaLite at 0x15cace8acf8>"
      ]
     },
     "metadata": {
      "jupyter-vega": "#378ec06d-5dc9-4585-b528-eeebdc542111"
     },
     "output_type": "display_data"
    },
    {
     "data": {
      "text/plain": []
     },
     "execution_count": 97,
     "metadata": {},
     "output_type": "execute_result"
    },
    {
     "data": {
      "image/png": "[encoded data removed]"
     },
     "metadata": {
      "jupyter-vega": "#378ec06d-5dc9-4585-b528-eeebdc542111"
     },
     "output_type": "display_data"
    }
   ],
   "source": [
    "countries = alt.topo_feature(data_vega.world_110m.url, 'countries')\n",
    "\n",
    "alt.Chart(countries).mark_geoshape().project(\n",
    "    type='equirectangular'\n",
    ").transform_lookup(\n",
    "    lookup='id',\n",
    "    from_=alt.LookupData(final_counts_df, 'Code', ['Count','Country','Code'])\n",
    ").encode(\n",
    "    color='Count:Q',\n",
    "    tooltip=['Country:N','Code:N','Count:Q']\n",
    ").properties(\n",
    "    width=800,\n",
    "    height=500,\n",
    ")"
   ]
  },
  {
   "cell_type": "code",
   "execution_count": 65,
   "metadata": {},
   "outputs": [
    {
     "data": {
      "text/html": [
       "<div>\n",
       "<style scoped>\n",
       "    .dataframe tbody tr th:only-of-type {\n",
       "        vertical-align: middle;\n",
       "    }\n",
       "\n",
       "    .dataframe tbody tr th {\n",
       "        vertical-align: top;\n",
       "    }\n",
       "\n",
       "    .dataframe thead th {\n",
       "        text-align: right;\n",
       "    }\n",
       "</style>\n",
       "<table border=\"1\" class=\"dataframe\">\n",
       "  <thead>\n",
       "    <tr style=\"text-align: right;\">\n",
       "      <th></th>\n",
       "      <th>Type</th>\n",
       "      <th>Date</th>\n",
       "      <th>Name</th>\n",
       "      <th>Sex</th>\n",
       "      <th>Country_killed</th>\n",
       "      <th>Organization</th>\n",
       "      <th>Nationality</th>\n",
       "      <th>Medium</th>\n",
       "      <th>Job</th>\n",
       "      <th>Coverage</th>\n",
       "      <th>Freelance</th>\n",
       "      <th>Local_Foreign</th>\n",
       "      <th>Source_fire</th>\n",
       "      <th>Type_death</th>\n",
       "      <th>Impunity_for_murder</th>\n",
       "      <th>Taken_captive</th>\n",
       "      <th>Threatened</th>\n",
       "      <th>Tortured</th>\n",
       "      <th>Country_code</th>\n",
       "    </tr>\n",
       "  </thead>\n",
       "  <tbody>\n",
       "    <tr>\n",
       "      <th>898</th>\n",
       "      <td>Motive Confirmed</td>\n",
       "      <td>September 25, 1999</td>\n",
       "      <td>Agus Muliawan</td>\n",
       "      <td>Male</td>\n",
       "      <td>East Timor</td>\n",
       "      <td>Asia Press International</td>\n",
       "      <td>East Timor</td>\n",
       "      <td>Print</td>\n",
       "      <td>Print Reporter</td>\n",
       "      <td>War</td>\n",
       "      <td>No</td>\n",
       "      <td>Local</td>\n",
       "      <td>Paramilitary Group</td>\n",
       "      <td>Dangerous Assignment</td>\n",
       "      <td>NaN</td>\n",
       "      <td>No</td>\n",
       "      <td>No</td>\n",
       "      <td>No\\n</td>\n",
       "      <td>626</td>\n",
       "    </tr>\n",
       "    <tr>\n",
       "      <th>899</th>\n",
       "      <td>Motive Confirmed</td>\n",
       "      <td>September 21, 1999</td>\n",
       "      <td>Sander Thoenes</td>\n",
       "      <td>Male</td>\n",
       "      <td>East Timor</td>\n",
       "      <td>Freelancer</td>\n",
       "      <td>The Netherlands</td>\n",
       "      <td>Print</td>\n",
       "      <td>Print Reporter</td>\n",
       "      <td>War</td>\n",
       "      <td>Yes</td>\n",
       "      <td>Foreign</td>\n",
       "      <td>Military Officials</td>\n",
       "      <td>Murder</td>\n",
       "      <td>Yes</td>\n",
       "      <td>No</td>\n",
       "      <td>No</td>\n",
       "      <td>Yes\\n</td>\n",
       "      <td>626</td>\n",
       "    </tr>\n",
       "  </tbody>\n",
       "</table>\n",
       "</div>"
      ],
      "text/plain": [
       "                 Type                Date            Name   Sex  \\\n",
       "898  Motive Confirmed  September 25, 1999   Agus Muliawan  Male   \n",
       "899  Motive Confirmed  September 21, 1999  Sander Thoenes  Male   \n",
       "\n",
       "    Country_killed              Organization      Nationality Medium  \\\n",
       "898     East Timor  Asia Press International       East Timor  Print   \n",
       "899     East Timor                Freelancer  The Netherlands  Print   \n",
       "\n",
       "                Job Coverage Freelance Local_Foreign         Source_fire  \\\n",
       "898  Print Reporter      War        No         Local  Paramilitary Group   \n",
       "899  Print Reporter      War       Yes       Foreign  Military Officials   \n",
       "\n",
       "               Type_death Impunity_for_murder Taken_captive Threatened  \\\n",
       "898  Dangerous Assignment                 NaN            No         No   \n",
       "899                Murder                 Yes            No         No   \n",
       "\n",
       "    Tortured Country_code  \n",
       "898     No\\n          626  \n",
       "899    Yes\\n          626  "
      ]
     },
     "execution_count": 65,
     "metadata": {},
     "output_type": "execute_result"
    }
   ],
   "source": [
    "data[data.Country_killed=='East Timor']"
   ]
  },
  {
   "cell_type": "code",
   "execution_count": 69,
   "metadata": {},
   "outputs": [
    {
     "data": {
      "text/html": [
       "<div>\n",
       "<style scoped>\n",
       "    .dataframe tbody tr th:only-of-type {\n",
       "        vertical-align: middle;\n",
       "    }\n",
       "\n",
       "    .dataframe tbody tr th {\n",
       "        vertical-align: top;\n",
       "    }\n",
       "\n",
       "    .dataframe thead th {\n",
       "        text-align: right;\n",
       "    }\n",
       "</style>\n",
       "<table border=\"1\" class=\"dataframe\">\n",
       "  <thead>\n",
       "    <tr style=\"text-align: right;\">\n",
       "      <th></th>\n",
       "      <th>index</th>\n",
       "      <th>Code</th>\n",
       "      <th>Country</th>\n",
       "    </tr>\n",
       "  </thead>\n",
       "  <tbody>\n",
       "    <tr>\n",
       "      <th>0</th>\n",
       "      <td>1</td>\n",
       "      <td>004</td>\n",
       "      <td>Afghanistan</td>\n",
       "    </tr>\n",
       "    <tr>\n",
       "      <th>1</th>\n",
       "      <td>2</td>\n",
       "      <td>008</td>\n",
       "      <td>Albania</td>\n",
       "    </tr>\n",
       "    <tr>\n",
       "      <th>2</th>\n",
       "      <td>3</td>\n",
       "      <td>010</td>\n",
       "      <td>Antarctica</td>\n",
       "    </tr>\n",
       "    <tr>\n",
       "      <th>3</th>\n",
       "      <td>4</td>\n",
       "      <td>012</td>\n",
       "      <td>Algeria</td>\n",
       "    </tr>\n",
       "    <tr>\n",
       "      <th>4</th>\n",
       "      <td>5</td>\n",
       "      <td>016</td>\n",
       "      <td>American Samoa</td>\n",
       "    </tr>\n",
       "  </tbody>\n",
       "</table>\n",
       "</div>"
      ],
      "text/plain": [
       "   index Code         Country\n",
       "0      1  004     Afghanistan\n",
       "1      2  008         Albania\n",
       "2      3  010      Antarctica\n",
       "3      4  012         Algeria\n",
       "4      5  016  American Samoa"
      ]
     },
     "execution_count": 69,
     "metadata": {},
     "output_type": "execute_result"
    }
   ],
   "source": [
    "df.head()"
   ]
  },
  {
   "cell_type": "code",
   "execution_count": 70,
   "metadata": {},
   "outputs": [
    {
     "data": {
      "text/html": [
       "<div>\n",
       "<style scoped>\n",
       "    .dataframe tbody tr th:only-of-type {\n",
       "        vertical-align: middle;\n",
       "    }\n",
       "\n",
       "    .dataframe tbody tr th {\n",
       "        vertical-align: top;\n",
       "    }\n",
       "\n",
       "    .dataframe thead th {\n",
       "        text-align: right;\n",
       "    }\n",
       "</style>\n",
       "<table border=\"1\" class=\"dataframe\">\n",
       "  <thead>\n",
       "    <tr style=\"text-align: right;\">\n",
       "      <th></th>\n",
       "      <th>Country</th>\n",
       "      <th>Code</th>\n",
       "      <th>Count</th>\n",
       "    </tr>\n",
       "  </thead>\n",
       "  <tbody>\n",
       "    <tr>\n",
       "      <th>0</th>\n",
       "      <td>Afghanistan</td>\n",
       "      <td>004</td>\n",
       "      <td>36</td>\n",
       "    </tr>\n",
       "    <tr>\n",
       "      <th>1</th>\n",
       "      <td>Algeria</td>\n",
       "      <td>012</td>\n",
       "      <td>61</td>\n",
       "    </tr>\n",
       "    <tr>\n",
       "      <th>2</th>\n",
       "      <td>Angola</td>\n",
       "      <td>024</td>\n",
       "      <td>11</td>\n",
       "    </tr>\n",
       "    <tr>\n",
       "      <th>3</th>\n",
       "      <td>Argentina</td>\n",
       "      <td>032</td>\n",
       "      <td>4</td>\n",
       "    </tr>\n",
       "    <tr>\n",
       "      <th>4</th>\n",
       "      <td>Armenia</td>\n",
       "      <td>051</td>\n",
       "      <td>1</td>\n",
       "    </tr>\n",
       "  </tbody>\n",
       "</table>\n",
       "</div>"
      ],
      "text/plain": [
       "       Country Code  Count\n",
       "0  Afghanistan  004     36\n",
       "1      Algeria  012     61\n",
       "2       Angola  024     11\n",
       "3    Argentina  032      4\n",
       "4      Armenia  051      1"
      ]
     },
     "execution_count": 70,
     "metadata": {},
     "output_type": "execute_result"
    }
   ],
   "source": [
    "final_counts_df.head()"
   ]
  },
  {
   "cell_type": "code",
   "execution_count": 84,
   "metadata": {},
   "outputs": [],
   "source": [
    "result = pd.merge(df, final_counts_df, on = 'Code', how='left')"
   ]
  },
  {
   "cell_type": "code",
   "execution_count": 75,
   "metadata": {},
   "outputs": [
    {
     "data": {
      "text/plain": [
       "(249, 3)"
      ]
     },
     "execution_count": 75,
     "metadata": {},
     "output_type": "execute_result"
    }
   ],
   "source": [
    "df.shape"
   ]
  },
  {
   "cell_type": "code",
   "execution_count": 76,
   "metadata": {},
   "outputs": [
    {
     "data": {
      "text/plain": [
       "(104, 3)"
      ]
     },
     "execution_count": 76,
     "metadata": {},
     "output_type": "execute_result"
    }
   ],
   "source": [
    "final_counts_df.shape"
   ]
  },
  {
   "cell_type": "code",
   "execution_count": 82,
   "metadata": {},
   "outputs": [
    {
     "data": {
      "text/plain": [
       "(249, 5)"
      ]
     },
     "execution_count": 82,
     "metadata": {},
     "output_type": "execute_result"
    }
   ],
   "source": [
    "result.shape"
   ]
  },
  {
   "cell_type": "code",
   "execution_count": 89,
   "metadata": {},
   "outputs": [],
   "source": [
    "result.drop('Country_y',inplace=True, axis=1)"
   ]
  },
  {
   "cell_type": "code",
   "execution_count": 92,
   "metadata": {},
   "outputs": [],
   "source": [
    "result = result.fillna(0)"
   ]
  },
  {
   "cell_type": "code",
   "execution_count": 99,
   "metadata": {},
   "outputs": [],
   "source": [
    "result.columns = ['index', 'Code', 'Country', 'Count']"
   ]
  },
  {
   "cell_type": "code",
   "execution_count": 107,
   "metadata": {},
   "outputs": [],
   "source": [
    "result['Code'] = result['Code'].astype(int)"
   ]
  },
  {
   "cell_type": "code",
   "execution_count": 108,
   "metadata": {},
   "outputs": [
    {
     "data": {
      "application/javascript": [
       "var spec = {\"config\": {\"view\": {\"width\": 400, \"height\": 300}}, \"data\": {\"url\": \"https://vega.github.io/vega-datasets/data/world-110m.json\", \"format\": {\"feature\": \"countries\", \"type\": \"topojson\"}}, \"mark\": \"geoshape\", \"encoding\": {\"color\": {\"type\": \"quantitative\", \"field\": \"Count\"}, \"tooltip\": [{\"type\": \"nominal\", \"field\": \"Country\"}, {\"type\": \"nominal\", \"field\": \"Code\"}, {\"type\": \"quantitative\", \"field\": \"Count\"}]}, \"height\": 500, \"projection\": {\"type\": \"equirectangular\"}, \"transform\": [{\"lookup\": \"id\", \"from\": {\"data\": {\"name\": \"data-d45d21e2acf32e152e66c0471ae524b2\"}, \"key\": \"Code\", \"fields\": [\"Count\", \"Country\", \"Code\"]}}], \"width\": 800, \"$schema\": \"https://vega.github.io/schema/vega-lite/v2.6.0.json\", \"datasets\": {\"data-d45d21e2acf32e152e66c0471ae524b2\": [{\"index\": 1, \"Code\": 4, \"Country\": \"Afghanistan\", \"Count\": 36.0}, {\"index\": 2, \"Code\": 8, \"Country\": \"Albania\", \"Count\": 0.0}, {\"index\": 3, \"Code\": 10, \"Country\": \"Antarctica\", \"Count\": 0.0}, {\"index\": 4, \"Code\": 12, \"Country\": \"Algeria\", \"Count\": 61.0}, {\"index\": 5, \"Code\": 16, \"Country\": \"American Samoa\", \"Count\": 0.0}, {\"index\": 6, \"Code\": 20, \"Country\": \"Andorra\", \"Count\": 0.0}, {\"index\": 7, \"Code\": 24, \"Country\": \"Angola\", \"Count\": 11.0}, {\"index\": 8, \"Code\": 28, \"Country\": \"Antigua and Barbuda\", \"Count\": 0.0}, {\"index\": 9, \"Code\": 31, \"Country\": \"Azerbaijan\", \"Count\": 6.0}, {\"index\": 10, \"Code\": 32, \"Country\": \"Argentina\", \"Count\": 4.0}, {\"index\": 11, \"Code\": 36, \"Country\": \"Australia\", \"Count\": 0.0}, {\"index\": 12, \"Code\": 40, \"Country\": \"Austria\", \"Count\": 0.0}, {\"index\": 13, \"Code\": 44, \"Country\": \"Bahamas\", \"Count\": 0.0}, {\"index\": 14, \"Code\": 48, \"Country\": \"Bahrain\", \"Count\": 3.0}, {\"index\": 15, \"Code\": 50, \"Country\": \"Bangladesh\", \"Count\": 29.0}, {\"index\": 16, \"Code\": 51, \"Country\": \"Armenia\", \"Count\": 1.0}, {\"index\": 17, \"Code\": 52, \"Country\": \"Barbados\", \"Count\": 0.0}, {\"index\": 18, \"Code\": 56, \"Country\": \"Belgium\", \"Count\": 0.0}, {\"index\": 19, \"Code\": 60, \"Country\": \"Bermuda\", \"Count\": 0.0}, {\"index\": 20, \"Code\": 64, \"Country\": \"Bhutan\", \"Count\": 0.0}, {\"index\": 21, \"Code\": 68, \"Country\": \"Bolivia, Plurinational State of\", \"Count\": 0.0}, {\"index\": 22, \"Code\": 70, \"Country\": \"Bosnia and Herzegovina\", \"Count\": 0.0}, {\"index\": 23, \"Code\": 72, \"Country\": \"Botswana\", \"Count\": 0.0}, {\"index\": 24, \"Code\": 74, \"Country\": \"Bouvet Island\", \"Count\": 0.0}, {\"index\": 25, \"Code\": 76, \"Country\": \"Brazil\", \"Count\": 49.0}, {\"index\": 26, \"Code\": 84, \"Country\": \"Belize\", \"Count\": 0.0}, {\"index\": 27, \"Code\": 86, \"Country\": \"British Indian Ocean Territory\", \"Count\": 0.0}, {\"index\": 28, \"Code\": 90, \"Country\": \"Solomon Islands\", \"Count\": 0.0}, {\"index\": 29, \"Code\": 92, \"Country\": \"Virgin Islands, British\", \"Count\": 0.0}, {\"index\": 30, \"Code\": 96, \"Country\": \"Brunei Darussalam\", \"Count\": 0.0}, {\"index\": 31, \"Code\": 100, \"Country\": \"Bulgaria\", \"Count\": 2.0}, {\"index\": 32, \"Code\": 104, \"Country\": \"Myanmar\", \"Count\": 4.0}, {\"index\": 33, \"Code\": 108, \"Country\": \"Burundi\", \"Count\": 4.0}, {\"index\": 34, \"Code\": 112, \"Country\": \"Belarus\", \"Count\": 6.0}, {\"index\": 35, \"Code\": 116, \"Country\": \"Cambodia\", \"Count\": 12.0}, {\"index\": 36, \"Code\": 120, \"Country\": \"Cameroon\", \"Count\": 1.0}, {\"index\": 37, \"Code\": 124, \"Country\": \"Canada\", \"Count\": 2.0}, {\"index\": 38, \"Code\": 132, \"Country\": \"Cabo Verde\", \"Count\": 0.0}, {\"index\": 39, \"Code\": 136, \"Country\": \"Cayman Islands\", \"Count\": 0.0}, {\"index\": 40, \"Code\": 140, \"Country\": \"Central African Republic\", \"Count\": 1.0}, {\"index\": 41, \"Code\": 144, \"Country\": \"Sri Lanka\", \"Count\": 25.0}, {\"index\": 42, \"Code\": 148, \"Country\": \"Chad\", \"Count\": 3.0}, {\"index\": 43, \"Code\": 152, \"Country\": \"Chile\", \"Count\": 0.0}, {\"index\": 44, \"Code\": 156, \"Country\": \"China\", \"Count\": 5.0}, {\"index\": 45, \"Code\": 158, \"Country\": \"Taiwan, Province of China\", \"Count\": 0.0}, {\"index\": 46, \"Code\": 162, \"Country\": \"Christmas Island\", \"Count\": 0.0}, {\"index\": 47, \"Code\": 166, \"Country\": \"Cocos (Keeling) Islands\", \"Count\": 0.0}, {\"index\": 48, \"Code\": 170, \"Country\": \"Colombia\", \"Count\": 84.0}, {\"index\": 49, \"Code\": 174, \"Country\": \"Comoros\", \"Count\": 0.0}, {\"index\": 50, \"Code\": 175, \"Country\": \"Mayotte\", \"Count\": 0.0}, {\"index\": 51, \"Code\": 178, \"Country\": \"Congo\", \"Count\": 0.0}, {\"index\": 52, \"Code\": 180, \"Country\": \"Congo, the Democratic Republic of the\", \"Count\": 0.0}, {\"index\": 53, \"Code\": 184, \"Country\": \"Cook Islands\", \"Count\": 0.0}, {\"index\": 54, \"Code\": 188, \"Country\": \"Costa Rica\", \"Count\": 1.0}, {\"index\": 55, \"Code\": 191, \"Country\": \"Croatia\", \"Count\": 4.0}, {\"index\": 56, \"Code\": 192, \"Country\": \"Cuba\", \"Count\": 0.0}, {\"index\": 57, \"Code\": 196, \"Country\": \"Cyprus\", \"Count\": 1.0}, {\"index\": 58, \"Code\": 203, \"Country\": \"Czechia\", \"Count\": 0.0}, {\"index\": 59, \"Code\": 204, \"Country\": \"Benin\", \"Count\": 0.0}, {\"index\": 60, \"Code\": 208, \"Country\": \"Denmark\", \"Count\": 0.0}, {\"index\": 61, \"Code\": 212, \"Country\": \"Dominica\", \"Count\": 0.0}, {\"index\": 62, \"Code\": 214, \"Country\": \"Dominican Republic\", \"Count\": 4.0}, {\"index\": 63, \"Code\": 218, \"Country\": \"Ecuador\", \"Count\": 3.0}, {\"index\": 64, \"Code\": 222, \"Country\": \"El Salvador\", \"Count\": 6.0}, {\"index\": 65, \"Code\": 226, \"Country\": \"Equatorial Guinea\", \"Count\": 0.0}, {\"index\": 66, \"Code\": 231, \"Country\": \"Ethiopia\", \"Count\": 2.0}, {\"index\": 67, \"Code\": 232, \"Country\": \"Eritrea\", \"Count\": 2.0}, {\"index\": 68, \"Code\": 233, \"Country\": \"Estonia\", \"Count\": 0.0}, {\"index\": 69, \"Code\": 234, \"Country\": \"Faroe Islands\", \"Count\": 0.0}, {\"index\": 70, \"Code\": 238, \"Country\": \"Falkland Islands (Malvinas)\", \"Count\": 0.0}, {\"index\": 71, \"Code\": 239, \"Country\": \"South Georgia and the South Sandwich Islands\", \"Count\": 0.0}, {\"index\": 72, \"Code\": 242, \"Country\": \"Fiji\", \"Count\": 0.0}, {\"index\": 73, \"Code\": 246, \"Country\": \"Finland\", \"Count\": 0.0}, {\"index\": 74, \"Code\": 248, \"Country\": \"\\u00c5land Islands\", \"Count\": 0.0}, {\"index\": 75, \"Code\": 250, \"Country\": \"France\", \"Count\": 10.0}, {\"index\": 76, \"Code\": 254, \"Country\": \"French Guiana\", \"Count\": 0.0}, {\"index\": 77, \"Code\": 258, \"Country\": \"French Polynesia\", \"Count\": 0.0}, {\"index\": 78, \"Code\": 260, \"Country\": \"French Southern Territories\", \"Count\": 0.0}, {\"index\": 79, \"Code\": 262, \"Country\": \"Djibouti\", \"Count\": 0.0}, {\"index\": 80, \"Code\": 266, \"Country\": \"Gabon\", \"Count\": 1.0}, {\"index\": 81, \"Code\": 268, \"Country\": \"Georgia\", \"Count\": 9.0}, {\"index\": 82, \"Code\": 270, \"Country\": \"Gambia\", \"Count\": 1.0}, {\"index\": 83, \"Code\": 275, \"Country\": \"Palestine, State of\", \"Count\": 0.0}, {\"index\": 84, \"Code\": 276, \"Country\": \"Germany\", \"Count\": 0.0}, {\"index\": 85, \"Code\": 288, \"Country\": \"Ghana\", \"Count\": 1.0}, {\"index\": 86, \"Code\": 292, \"Country\": \"Gibraltar\", \"Count\": 0.0}, {\"index\": 87, \"Code\": 296, \"Country\": \"Kiribati\", \"Count\": 0.0}, {\"index\": 88, \"Code\": 300, \"Country\": \"Greece\", \"Count\": 1.0}, {\"index\": 89, \"Code\": 304, \"Country\": \"Greenland\", \"Count\": 0.0}, {\"index\": 90, \"Code\": 308, \"Country\": \"Grenada\", \"Count\": 0.0}, {\"index\": 91, \"Code\": 312, \"Country\": \"Guadeloupe\", \"Count\": 0.0}, {\"index\": 92, \"Code\": 316, \"Country\": \"Guam\", \"Count\": 0.0}, {\"index\": 93, \"Code\": 320, \"Country\": \"Guatemala\", \"Count\": 23.0}, {\"index\": 94, \"Code\": 324, \"Country\": \"Guinea\", \"Count\": 4.0}, {\"index\": 95, \"Code\": 328, \"Country\": \"Guyana\", \"Count\": 0.0}, {\"index\": 96, \"Code\": 332, \"Country\": \"Haiti\", \"Count\": 9.0}, {\"index\": 97, \"Code\": 334, \"Country\": \"Heard Island and McDonald Islands\", \"Count\": 0.0}, {\"index\": 98, \"Code\": 336, \"Country\": \"Holy See\", \"Count\": 0.0}, {\"index\": 99, \"Code\": 340, \"Country\": \"Honduras\", \"Count\": 23.0}, {\"index\": 100, \"Code\": 344, \"Country\": \"Hong Kong\", \"Count\": 0.0}, {\"index\": 101, \"Code\": 348, \"Country\": \"Hungary\", \"Count\": 0.0}, {\"index\": 102, \"Code\": 352, \"Country\": \"Iceland\", \"Count\": 0.0}, {\"index\": 103, \"Code\": 356, \"Country\": \"India\", \"Count\": 69.0}, {\"index\": 104, \"Code\": 360, \"Country\": \"Indonesia\", \"Count\": 11.0}, {\"index\": 105, \"Code\": 364, \"Country\": \"Iran, Islamic Republic of\", \"Count\": 0.0}, {\"index\": 106, \"Code\": 368, \"Country\": \"Iraq\", \"Count\": 264.0}, {\"index\": 107, \"Code\": 372, \"Country\": \"Ireland\", \"Count\": 1.0}, {\"index\": 108, \"Code\": 376, \"Country\": \"Israel\", \"Count\": 0.0}, {\"index\": 109, \"Code\": 380, \"Country\": \"Italy\", \"Count\": 0.0}, {\"index\": 110, \"Code\": 384, \"Country\": \"C\\u00f4te d'Ivoire\", \"Count\": 0.0}, {\"index\": 111, \"Code\": 388, \"Country\": \"Jamaica\", \"Count\": 0.0}, {\"index\": 112, \"Code\": 392, \"Country\": \"Japan\", \"Count\": 1.0}, {\"index\": 113, \"Code\": 398, \"Country\": \"Kazakhstan\", \"Count\": 2.0}, {\"index\": 114, \"Code\": 400, \"Country\": \"Jordan\", \"Count\": 0.0}, {\"index\": 115, \"Code\": 404, \"Country\": \"Kenya\", \"Count\": 5.0}, {\"index\": 116, \"Code\": 408, \"Country\": \"Korea, Democratic People's Republic of\", \"Count\": 0.0}, {\"index\": 117, \"Code\": 410, \"Country\": \"Korea, Republic of\", \"Count\": 0.0}, {\"index\": 118, \"Code\": 414, \"Country\": \"Kuwait\", \"Count\": 1.0}, {\"index\": 119, \"Code\": 417, \"Country\": \"Kyrgyzstan\", \"Count\": 2.0}, {\"index\": 120, \"Code\": 418, \"Country\": \"Lao People's Democratic Republic\", \"Count\": 0.0}, {\"index\": 121, \"Code\": 422, \"Country\": \"Lebanon\", \"Count\": 10.0}, {\"index\": 122, \"Code\": 426, \"Country\": \"Lesotho\", \"Count\": 0.0}, {\"index\": 123, \"Code\": 428, \"Country\": \"Latvia\", \"Count\": 1.0}, {\"index\": 124, \"Code\": 430, \"Country\": \"Liberia\", \"Count\": 0.0}, {\"index\": 125, \"Code\": 434, \"Country\": \"Libya\", \"Count\": 13.0}, {\"index\": 126, \"Code\": 438, \"Country\": \"Liechtenstein\", \"Count\": 0.0}, {\"index\": 127, \"Code\": 440, \"Country\": \"Lithuania\", \"Count\": 1.0}, {\"index\": 128, \"Code\": 442, \"Country\": \"Luxembourg\", \"Count\": 0.0}, {\"index\": 129, \"Code\": 446, \"Country\": \"Macao\", \"Count\": 0.0}, {\"index\": 130, \"Code\": 450, \"Country\": \"Madagascar\", \"Count\": 2.0}, {\"index\": 131, \"Code\": 454, \"Country\": \"Malawi\", \"Count\": 0.0}, {\"index\": 132, \"Code\": 458, \"Country\": \"Malaysia\", \"Count\": 0.0}, {\"index\": 133, \"Code\": 462, \"Country\": \"Maldives\", \"Count\": 0.0}, {\"index\": 134, \"Code\": 466, \"Country\": \"Mali\", \"Count\": 2.0}, {\"index\": 135, \"Code\": 470, \"Country\": \"Malta\", \"Count\": 0.0}, {\"index\": 136, \"Code\": 474, \"Country\": \"Martinique\", \"Count\": 0.0}, {\"index\": 137, \"Code\": 478, \"Country\": \"Mauritania\", \"Count\": 0.0}, {\"index\": 138, \"Code\": 480, \"Country\": \"Mauritius\", \"Count\": 0.0}, {\"index\": 139, \"Code\": 484, \"Country\": \"Mexico\", \"Count\": 89.0}, {\"index\": 140, \"Code\": 492, \"Country\": \"Monaco\", \"Count\": 0.0}, {\"index\": 141, \"Code\": 496, \"Country\": \"Mongolia\", \"Count\": 0.0}, {\"index\": 142, \"Code\": 498, \"Country\": \"Moldova, Republic of\", \"Count\": 0.0}, {\"index\": 143, \"Code\": 499, \"Country\": \"Montenegro\", \"Count\": 0.0}, {\"index\": 144, \"Code\": 500, \"Country\": \"Montserrat\", \"Count\": 0.0}, {\"index\": 145, \"Code\": 504, \"Country\": \"Morocco\", \"Count\": 0.0}, {\"index\": 146, \"Code\": 508, \"Country\": \"Mozambique\", \"Count\": 2.0}, {\"index\": 147, \"Code\": 512, \"Country\": \"Oman\", \"Count\": 0.0}, {\"index\": 148, \"Code\": 516, \"Country\": \"Namibia\", \"Count\": 0.0}, {\"index\": 149, \"Code\": 520, \"Country\": \"Nauru\", \"Count\": 0.0}, {\"index\": 150, \"Code\": 524, \"Country\": \"Nepal\", \"Count\": 17.0}, {\"index\": 151, \"Code\": 528, \"Country\": \"Netherlands\", \"Count\": 0.0}, {\"index\": 152, \"Code\": 531, \"Country\": \"Cura\\u00e7ao\", \"Count\": 0.0}, {\"index\": 153, \"Code\": 533, \"Country\": \"Aruba\", \"Count\": 0.0}, {\"index\": 154, \"Code\": 534, \"Country\": \"Sint Maarten (Dutch part)\", \"Count\": 0.0}, {\"index\": 155, \"Code\": 535, \"Country\": \"Bonaire, Sint Eustatius and Saba\", \"Count\": 0.0}, {\"index\": 156, \"Code\": 540, \"Country\": \"New Caledonia\", \"Count\": 0.0}, {\"index\": 157, \"Code\": 548, \"Country\": \"Vanuatu\", \"Count\": 0.0}, {\"index\": 158, \"Code\": 554, \"Country\": \"New Zealand\", \"Count\": 0.0}, {\"index\": 159, \"Code\": 558, \"Country\": \"Nicaragua\", \"Count\": 2.0}, {\"index\": 160, \"Code\": 562, \"Country\": \"Niger\", \"Count\": 0.0}, {\"index\": 161, \"Code\": 566, \"Country\": \"Nigeria\", \"Count\": 19.0}, {\"index\": 162, \"Code\": 570, \"Country\": \"Niue\", \"Count\": 0.0}, {\"index\": 163, \"Code\": 574, \"Country\": \"Norfolk Island\", \"Count\": 0.0}, {\"index\": 164, \"Code\": 578, \"Country\": \"Norway\", \"Count\": 0.0}, {\"index\": 165, \"Code\": 580, \"Country\": \"Northern Mariana Islands\", \"Count\": 0.0}, {\"index\": 166, \"Code\": 581, \"Country\": \"United States Minor Outlying Islands\", \"Count\": 0.0}, {\"index\": 167, \"Code\": 583, \"Country\": \"Micronesia, Federated States of\", \"Count\": 0.0}, {\"index\": 168, \"Code\": 584, \"Country\": \"Marshall Islands\", \"Count\": 0.0}, {\"index\": 169, \"Code\": 585, \"Country\": \"Palau\", \"Count\": 0.0}, {\"index\": 170, \"Code\": 586, \"Country\": \"Pakistan\", \"Count\": 86.0}, {\"index\": 171, \"Code\": 591, \"Country\": \"Panama\", \"Count\": 1.0}, {\"index\": 172, \"Code\": 598, \"Country\": \"Papua New Guinea\", \"Count\": 1.0}, {\"index\": 173, \"Code\": 600, \"Country\": \"Paraguay\", \"Count\": 6.0}, {\"index\": 174, \"Code\": 604, \"Country\": \"Peru\", \"Count\": 15.0}, {\"index\": 175, \"Code\": 608, \"Country\": \"Philippines\", \"Count\": 133.0}, {\"index\": 176, \"Code\": 612, \"Country\": \"Pitcairn\", \"Count\": 0.0}, {\"index\": 177, \"Code\": 616, \"Country\": \"Poland\", \"Count\": 1.0}, {\"index\": 178, \"Code\": 620, \"Country\": \"Portugal\", \"Count\": 0.0}, {\"index\": 179, \"Code\": 624, \"Country\": \"Guinea-Bissau\", \"Count\": 0.0}, {\"index\": 180, \"Code\": 626, \"Country\": \"Timor-Leste\", \"Count\": 0.0}, {\"index\": 181, \"Code\": 630, \"Country\": \"Puerto Rico\", \"Count\": 0.0}, {\"index\": 182, \"Code\": 634, \"Country\": \"Qatar\", \"Count\": 0.0}, {\"index\": 183, \"Code\": 638, \"Country\": \"R\\u00e9union\", \"Count\": 0.0}, {\"index\": 184, \"Code\": 642, \"Country\": \"Romania\", \"Count\": 0.0}, {\"index\": 185, \"Code\": 643, \"Country\": \"Russian Federation\", \"Count\": 0.0}, {\"index\": 186, \"Code\": 646, \"Country\": \"Rwanda\", \"Count\": 23.0}, {\"index\": 187, \"Code\": 652, \"Country\": \"Saint Barth\\u00e9lemy\", \"Count\": 0.0}, {\"index\": 188, \"Code\": 654, \"Country\": \"Saint Helena, Ascension and Tristan da Cunha\", \"Count\": 0.0}, {\"index\": 189, \"Code\": 659, \"Country\": \"Saint Kitts and Nevis\", \"Count\": 0.0}, {\"index\": 190, \"Code\": 660, \"Country\": \"Anguilla\", \"Count\": 0.0}, {\"index\": 191, \"Code\": 662, \"Country\": \"Saint Lucia\", \"Count\": 0.0}, {\"index\": 192, \"Code\": 663, \"Country\": \"Saint Martin (French part)\", \"Count\": 0.0}, {\"index\": 193, \"Code\": 666, \"Country\": \"Saint Pierre and Miquelon\", \"Count\": 0.0}, {\"index\": 194, \"Code\": 670, \"Country\": \"Saint Vincent and the Grenadines\", \"Count\": 0.0}, {\"index\": 195, \"Code\": 674, \"Country\": \"San Marino\", \"Count\": 0.0}, {\"index\": 196, \"Code\": 678, \"Country\": \"Sao Tome and Principe\", \"Count\": 0.0}, {\"index\": 197, \"Code\": 682, \"Country\": \"Saudi Arabia\", \"Count\": 1.0}, {\"index\": 198, \"Code\": 686, \"Country\": \"Senegal\", \"Count\": 0.0}, {\"index\": 199, \"Code\": 688, \"Country\": \"Serbia\", \"Count\": 3.0}, {\"index\": 200, \"Code\": 690, \"Country\": \"Seychelles\", \"Count\": 0.0}, {\"index\": 201, \"Code\": 694, \"Country\": \"Sierra Leone\", \"Count\": 17.0}, {\"index\": 202, \"Code\": 702, \"Country\": \"Singapore\", \"Count\": 0.0}, {\"index\": 203, \"Code\": 703, \"Country\": \"Slovakia\", \"Count\": 0.0}, {\"index\": 204, \"Code\": 704, \"Country\": \"Viet Nam\", \"Count\": 0.0}, {\"index\": 205, \"Code\": 705, \"Country\": \"Slovenia\", \"Count\": 0.0}, {\"index\": 206, \"Code\": 706, \"Country\": \"Somalia\", \"Count\": 66.0}, {\"index\": 207, \"Code\": 710, \"Country\": \"South Africa\", \"Count\": 4.0}, {\"index\": 208, \"Code\": 716, \"Country\": \"Zimbabwe\", \"Count\": 1.0}, {\"index\": 209, \"Code\": 724, \"Country\": \"Spain\", \"Count\": 1.0}, {\"index\": 210, \"Code\": 728, \"Country\": \"South Sudan\", \"Count\": 8.0}, {\"index\": 211, \"Code\": 729, \"Country\": \"Sudan\", \"Count\": 2.0}, {\"index\": 212, \"Code\": 732, \"Country\": \"Western Sahara\", \"Count\": 0.0}, {\"index\": 213, \"Code\": 740, \"Country\": \"Suriname\", \"Count\": 0.0}, {\"index\": 214, \"Code\": 744, \"Country\": \"Svalbard and Jan Mayen\", \"Count\": 0.0}, {\"index\": 215, \"Code\": 748, \"Country\": \"Swaziland\", \"Count\": 0.0}, {\"index\": 216, \"Code\": 752, \"Country\": \"Sweden\", \"Count\": 0.0}, {\"index\": 217, \"Code\": 756, \"Country\": \"Switzerland\", \"Count\": 0.0}, {\"index\": 218, \"Code\": 760, \"Country\": \"Syrian Arab Republic\", \"Count\": 0.0}, {\"index\": 219, \"Code\": 762, \"Country\": \"Tajikistan\", \"Count\": 29.0}, {\"index\": 220, \"Code\": 764, \"Country\": \"Thailand\", \"Count\": 16.0}, {\"index\": 221, \"Code\": 768, \"Country\": \"Togo\", \"Count\": 0.0}, {\"index\": 222, \"Code\": 772, \"Country\": \"Tokelau\", \"Count\": 0.0}, {\"index\": 223, \"Code\": 776, \"Country\": \"Tonga\", \"Count\": 0.0}, {\"index\": 224, \"Code\": 780, \"Country\": \"Trinidad and Tobago\", \"Count\": 0.0}, {\"index\": 225, \"Code\": 784, \"Country\": \"United Arab Emirates\", \"Count\": 0.0}, {\"index\": 226, \"Code\": 788, \"Country\": \"Tunisia\", \"Count\": 1.0}, {\"index\": 227, \"Code\": 792, \"Country\": \"Turkey\", \"Count\": 29.0}, {\"index\": 228, \"Code\": 795, \"Country\": \"Turkmenistan\", \"Count\": 1.0}, {\"index\": 229, \"Code\": 796, \"Country\": \"Turks and Caicos Islands\", \"Count\": 0.0}, {\"index\": 230, \"Code\": 798, \"Country\": \"Tuvalu\", \"Count\": 0.0}, {\"index\": 231, \"Code\": 800, \"Country\": \"Uganda\", \"Count\": 5.0}, {\"index\": 232, \"Code\": 804, \"Country\": \"Ukraine\", \"Count\": 19.0}, {\"index\": 233, \"Code\": 807, \"Country\": \"Macedonia, the former Yugoslav Republic of\", \"Count\": 0.0}, {\"index\": 234, \"Code\": 818, \"Country\": \"Egypt\", \"Count\": 13.0}, {\"index\": 235, \"Code\": 826, \"Country\": \"United Kingdom\", \"Count\": 0.0}, {\"index\": 236, \"Code\": 831, \"Country\": \"Guernsey\", \"Count\": 0.0}, {\"index\": 237, \"Code\": 832, \"Country\": \"Jersey\", \"Count\": 0.0}, {\"index\": 238, \"Code\": 833, \"Country\": \"Isle of Man\", \"Count\": 0.0}, {\"index\": 239, \"Code\": 834, \"Country\": \"Tanzania, United Republic of\", \"Count\": 0.0}, {\"index\": 240, \"Code\": 840, \"Country\": \"United States of America\", \"Count\": 0.0}, {\"index\": 241, \"Code\": 850, \"Country\": \"Virgin Islands, U.S.\", \"Count\": 0.0}, {\"index\": 242, \"Code\": 854, \"Country\": \"Burkina Faso\", \"Count\": 1.0}, {\"index\": 243, \"Code\": 858, \"Country\": \"Uruguay\", \"Count\": 1.0}, {\"index\": 244, \"Code\": 860, \"Country\": \"Uzbekistan\", \"Count\": 1.0}, {\"index\": 245, \"Code\": 862, \"Country\": \"Venezuela, Bolivarian Republic of\", \"Count\": 0.0}, {\"index\": 246, \"Code\": 876, \"Country\": \"Wallis and Futuna\", \"Count\": 0.0}, {\"index\": 247, \"Code\": 882, \"Country\": \"Samoa\", \"Count\": 0.0}, {\"index\": 248, \"Code\": 887, \"Country\": \"Yemen\", \"Count\": 19.0}, {\"index\": 249, \"Code\": 894, \"Country\": \"Zambia\", \"Count\": 0.0}]}};\n",
       "var opt = {};\n",
       "var type = \"vega-lite\";\n",
       "var id = \"5596cb1b-2811-4d05-92d6-4ee2dc47c6fe\";\n",
       "\n",
       "var output_area = this;\n",
       "\n",
       "require([\"nbextensions/jupyter-vega/index\"], function(vega) {\n",
       "  var target = document.createElement(\"div\");\n",
       "  target.id = id;\n",
       "  target.className = \"vega-embed\";\n",
       "\n",
       "  var style = document.createElement(\"style\");\n",
       "  style.textContent = [\n",
       "    \".vega-embed .error p {\",\n",
       "    \"  color: firebrick;\",\n",
       "    \"  font-size: 14px;\",\n",
       "    \"}\",\n",
       "  ].join(\"\\\\n\");\n",
       "\n",
       "  // element is a jQuery wrapped DOM element inside the output area\n",
       "  // see http://ipython.readthedocs.io/en/stable/api/generated/\\\n",
       "  // IPython.display.html#IPython.display.Javascript.__init__\n",
       "  element[0].appendChild(target);\n",
       "  element[0].appendChild(style);\n",
       "\n",
       "  vega.render(\"#\" + id, spec, type, opt, output_area);\n",
       "}, function (err) {\n",
       "  if (err.requireType !== \"scripterror\") {\n",
       "    throw(err);\n",
       "  }\n",
       "});\n"
      ],
      "text/plain": [
       "<vega.vegalite.VegaLite at 0x15cacf979b0>"
      ]
     },
     "metadata": {
      "jupyter-vega": "#5596cb1b-2811-4d05-92d6-4ee2dc47c6fe"
     },
     "output_type": "display_data"
    },
    {
     "data": {
      "text/plain": []
     },
     "execution_count": 108,
     "metadata": {},
     "output_type": "execute_result"
    },
    {
     "data": {
      "image/png": "[encoded data removed]"
     },
     "metadata": {
      "jupyter-vega": "#5596cb1b-2811-4d05-92d6-4ee2dc47c6fe"
     },
     "output_type": "display_data"
    }
   ],
   "source": [
    "countries = alt.topo_feature(data_vega.world_110m.url, 'countries')\n",
    "\n",
    "alt.Chart(countries).mark_geoshape().project(\n",
    "    type='equirectangular'\n",
    ").transform_lookup(\n",
    "    lookup='id',\n",
    "    from_=alt.LookupData(result, 'Code', ['Count','Country','Code'])\n",
    ").encode(\n",
    "    color='Count:Q',\n",
    "    tooltip=['Country:N','Code:N','Count:Q']\n",
    ").properties(\n",
    "    width=800,\n",
    "    height=500,\n",
    ")"
   ]
  },
  {
   "cell_type": "code",
   "execution_count": null,
   "metadata": {},
   "outputs": [],
   "source": []
  }
 ],
 "metadata": {
  "kernelspec": {
   "display_name": "Python 3",
   "language": "python",
   "name": "python3"
  },
  "language_info": {
   "codemirror_mode": {
    "name": "ipython",
    "version": 3
   },
   "file_extension": ".py",
   "mimetype": "text/x-python",
   "name": "python",
   "nbconvert_exporter": "python",
   "pygments_lexer": "ipython3",
   "version": "3.6.6"
  }
 },
 "nbformat": 4,
 "nbformat_minor": 2
}
